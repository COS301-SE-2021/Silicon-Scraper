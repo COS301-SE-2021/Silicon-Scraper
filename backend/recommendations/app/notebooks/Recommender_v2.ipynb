{
 "cells": [
  {
   "cell_type": "code",
   "execution_count": 44,
   "metadata": {},
   "outputs": [],
   "source": [
    "import pandas as pd \n",
    "import json\n",
    "import re\n",
    "import psycopg2\n",
    "import nltk\n",
    "import nan \n",
    "from nltk.corpus import stopwords\n",
    "from configparser import ConfigParser\n",
    "from sklearn.feature_extraction.text import TfidfVectorizer\n",
    "\n",
    "stopwords = set(stopwords.words('english'))"
   ]
  },
  {
   "cell_type": "code",
   "execution_count": 60,
   "metadata": {},
   "outputs": [],
   "source": [
    "#This function facilitates the connection to the database\n",
    "def connect():\n",
    "    try:\n",
    "        \n",
    "        parser = ConfigParser()\n",
    "        parser.read('database.ini')\n",
    "\n",
    "        #params = config()\n",
    "        host = parser.get('postgresql','DB_HOST')\n",
    "        port = parser.get('postgresql','DB_PORT')\n",
    "        database =parser.get('postgresql','DB_NAME')\n",
    "        user = parser.get('postgresql','DB_USER')\n",
    "        password = parser.get('postgresql','DB_PW')\n",
    "\n",
    "        #params = config()\n",
    "        #print(host, port, password, user, database)\n",
    "        conn = psycopg2.connect(host=host, port=port, database=database, user=user, password=password)\n",
    "\n",
    "        curr = conn.cursor()\n",
    "        \n",
    "#         query = \"\"\"SELECT table_name from information_schema.tables WHERE table_schema = 'public'\"\"\"\n",
    "#         curr.execute(query)\n",
    "        \n",
    "#         rows = curr.fetchall()\n",
    "\n",
    "#         for row in rows:\n",
    "#             print(row[0])\n",
    "\n",
    "        return curr, conn\n",
    "    except( Exception, psycopg2.DatabaseError) as err:\n",
    "        print(err)\n",
    "    \n",
    "cur, con = connect()"
   ]
  },
  {
   "cell_type": "code",
   "execution_count": null,
   "metadata": {},
   "outputs": [],
   "source": [
    "def remove_columns_from_products(table):\n",
    "    #table.drop(['image', 'link', 'price', 'availability', 'retailer', 'details'], axis=1, inplace=True)\n",
    "    table.dropna(inplace=True)"
   ]
  },
  {
   "cell_type": "code",
   "execution_count": 61,
   "metadata": {},
   "outputs": [
    {
     "name": "stdout",
     "output_type": "stream",
     "text": [
      "could not translate host name \"siliconscraper-1.csvt0txubrxm.us-east-2.rds.amazonaws.com\" to address: Unknown host\n",
      "\n"
     ]
    },
    {
     "ename": "TypeError",
     "evalue": "cannot unpack non-iterable NoneType object",
     "output_type": "error",
     "traceback": [
      "\u001b[1;31m---------------------------------------------------------------------------\u001b[0m",
      "\u001b[1;31mTypeError\u001b[0m                                 Traceback (most recent call last)",
      "\u001b[1;32m<ipython-input-61-e29bf3e78758>\u001b[0m in \u001b[0;36m<module>\u001b[1;34m\u001b[0m\n\u001b[0;32m      2\u001b[0m     \u001b[0mcon\u001b[0m\u001b[1;33m.\u001b[0m\u001b[0mclose\u001b[0m\u001b[1;33m(\u001b[0m\u001b[1;33m)\u001b[0m\u001b[1;33m\u001b[0m\u001b[1;33m\u001b[0m\u001b[0m\n\u001b[0;32m      3\u001b[0m     \u001b[0mcur\u001b[0m\u001b[1;33m.\u001b[0m\u001b[0mclose\u001b[0m\u001b[1;33m(\u001b[0m\u001b[1;33m)\u001b[0m\u001b[1;33m\u001b[0m\u001b[1;33m\u001b[0m\u001b[0m\n\u001b[1;32m----> 4\u001b[1;33m \u001b[0mcur\u001b[0m\u001b[1;33m,\u001b[0m \u001b[0mcon\u001b[0m \u001b[1;33m=\u001b[0m \u001b[0mconnect\u001b[0m\u001b[1;33m(\u001b[0m\u001b[1;33m)\u001b[0m\u001b[1;33m\u001b[0m\u001b[1;33m\u001b[0m\u001b[0m\n\u001b[0m\u001b[0;32m      5\u001b[0m \u001b[0mgetUser\u001b[0m\u001b[1;33m(\u001b[0m\u001b[0mcur\u001b[0m\u001b[1;33m,\u001b[0m \u001b[0mcon\u001b[0m\u001b[1;33m)\u001b[0m\u001b[1;33m\u001b[0m\u001b[1;33m\u001b[0m\u001b[0m\n",
      "\u001b[1;31mTypeError\u001b[0m: cannot unpack non-iterable NoneType object"
     ]
    }
   ],
   "source": [
    "def get_wishlist(cur, con):\n",
    "    query = \"SELECT * FROM watchlist_cpu\"\n",
    "    cpus = pd.read_sql_query(query, con)\n",
    "    cpus = pd.DataFrame(cpus)\n",
    "    \n",
    "    query = \"SELECT * FROM watchlist_gpu\"\n",
    "    gpus = pd.read_sql_query(query, con)\n",
    "    \n",
    "    table = cpus.append(gpus)\n",
    "    #any preprocessing needing to be done\n",
    "    #table = remove_columns_from_products(table)\n",
    "    table.drop_duplicates(subset='product_id', keep=False, inplace=True)\n",
    "\n",
    "    return table\n",
    "cur, con = connect()\n",
    "get_wishlist(cur, con)"
   ]
  },
  {
   "cell_type": "code",
   "execution_count": 62,
   "metadata": {},
   "outputs": [
    {
     "ename": "SyntaxError",
     "evalue": "unexpected EOF while parsing (<ipython-input-62-fefe4e811369>, line 1)",
     "output_type": "error",
     "traceback": [
      "\u001b[1;36m  File \u001b[1;32m\"<ipython-input-62-fefe4e811369>\"\u001b[1;36m, line \u001b[1;32m1\u001b[0m\n\u001b[1;33m    def get_all_products(cur, con):\u001b[0m\n\u001b[1;37m                                   ^\u001b[0m\n\u001b[1;31mSyntaxError\u001b[0m\u001b[1;31m:\u001b[0m unexpected EOF while parsing\n"
     ]
    }
   ],
   "source": [
    "def get_all_products(cur, con):\n",
    "    query = \"SELECT id, brand, retailer, type, description FROM cpus\"\n",
    "    cpus = pd.read_sql_query(query, con)\n",
    "    cpus = pd.DataFrame(cpus)\n",
    "    \n",
    "    query = \"SELECT id, brand, retailer, type, description FROM gpus\"\n",
    "    gpus = pd.read_sql_query(query, con)\n",
    "    \n",
    "    table = cpus.append(gpus)\n",
    "    \n",
    "    # any preprocessing needed to be done\n",
    "    table['description_cl'] = table['description'].apply(clean_data)\n",
    "    table.drop(['description'], axis=1, inplace=True)\n",
    "    table.dropna(inplace=True)\n",
    "\n",
    "    return table"
   ]
  },
  {
   "cell_type": "code",
   "execution_count": null,
   "metadata": {},
   "outputs": [],
   "source": [
    "#remove all products that are already in a wishlist \n",
    "#all_products = all_products.loc[all_products[all_products['id'] != wishlist_products['id']]]\n"
   ]
  },
  {
   "cell_type": "code",
   "execution_count": null,
   "metadata": {},
   "outputs": [],
   "source": [
    "#rec = pd.Series(all_products.index)\n",
    "\n",
    "#function to carry through the recommending \n",
    "def recommend(idx, cosine = similarity):\n",
    "    \n",
    "    #find the index of the product in the index series\n",
    "    item = rec[rec == idx].index[0]\n",
    "    \n",
    "    #get array of similarities and sort them in descending order\n",
    "    similarities = list(enumerate(similarity[item]))\n",
    "    similarities = sorted(similarities, key=lambda x: x[1], reverse=True)\n",
    "    \n",
    "    #get the top 5 products, excluding the product itself\n",
    "    similarities = similarities[1:6]\n",
    "   \n",
    "    #get index of top 5 \n",
    "    index = [i[0] for i in similarities]\n",
    "    \n",
    "    #get the products using the the retrieved index\n",
    "     \n",
    "    prods = all_products.iloc[index]\n",
    "    resul = []\n",
    "    for i, row in prods.iterrows():\n",
    "        \n",
    "        resul.append(uuid.UUID(i))\n",
    "    return resul"
   ]
  },
  {
   "cell_type": "code",
   "execution_count": null,
   "metadata": {},
   "outputs": [],
   "source": [
    "def clean_data(text):\n",
    "    if text == '' or not list(text) or text == {} or text == '{}':\n",
    "        return math.nan\n",
    "    # text = json.loads(text)\n",
    "    final = [(x +\"-\" + y).lower() for x,y in zip(list(text), list(text.values()))]\n",
    "    return \"  \".join(final)\n"
   ]
  },
  {
   "cell_type": "code",
   "execution_count": null,
   "metadata": {},
   "outputs": [],
   "source": [
    "#get recommendations for all products in wishlist \n",
    "wishlist_cpu = wishlist_description[wishlist_description['type'] == 'cpu']\n",
    "wishlist_gpu = wishlist_description[wishlist_description['type'] == 'gpu']\n",
    "\n",
    "def get_recommendations(df_wishlist):\n",
    "        recs = []\n",
    "        \n",
    "        wishlist = list(df_wishlist['product_id'])\n",
    "        for i, product in enumerate(wishlist):\n",
    "            response = list(recommend(product))\n",
    "            recs.append(response)\n",
    "       \n",
    "        return recs\n",
    "    \n",
    "# cpus = get_recommendations(wishlist_cpu)\n",
    "# gpus = get_recommendations(wishlist_gpu)\n",
    "\n",
    "# result_cpu = pd.DataFrame(wishlist_cpu['id'], columns=['id','recommendations'])\n",
    "# result_gpu = pd.DataFrame(wishlist_gpu['id'], columns=['id','recommendations'])\n",
    "\n",
    "# result_cpu['recommendations'] = cpus\n",
    "# result_gpu['recommendations'] = gpus\n",
    "\n",
    "# result_cpu.set_index('id', inplace=True)\n",
    "# result_gpu.set_index('id', inplace=True)\n",
    "\n",
    "# result_gpu['recommendations']"
   ]
  },
  {
   "cell_type": "code",
   "execution_count": null,
   "metadata": {},
   "outputs": [],
   "source": [
    "def get_all_product_recommendations(wishlist_description):\n",
    "    temp = []\n",
    "    global all_products\n",
    "    all_products.set_index('product_id', inplace=True)\n",
    "    wishlist_description.reset_index()\n",
    "    for i, pro in all_products.iterrows():\n",
    "        for j, wish in wishlist_description.iterrows():\n",
    "            if i == wish['product_id']:\n",
    "                temp.append((wish['product_id'], pro['type']))\n",
    "                \n",
    "    \n",
    "  \n",
    "    types = pd.DataFrame(temp, columns = ['product_id', 'type'])\n",
    "    wishlist_cpu = types[types['type'] == 'cpu']#wishlist_description[wishlist_description['product_id'] == types['product_id'].item() & types['type'].item() == 'cpu']\n",
    "    wishlist_gpu = types[types['type'] == 'gpu']#wishlist_description[wishlist_description['type'] == 'gpu']\n",
    "   \n",
    "    cpus = get_recommendations(wishlist_cpu)\n",
    "    gpus = get_recommendations(wishlist_gpu)\n",
    "    \n",
    "    result_cpu = pd.DataFrame(wishlist_cpu['product_id'], columns=['id','recommendations'])\n",
    "    result_gpu = pd.DataFrame(wishlist_gpu['product_id'], columns=['id','recommendations'])\n",
    "    \n",
    "    wishlist_gpu['recommendations'] = gpus\n",
    "    wishlist_cpu['recommendations'] = cpus\n",
    "    \n",
    "    wishlist_cpu.set_index('product_id', inplace=True)\n",
    "    wishlist_gpu.set_index('product_id', inplace=True)\n",
    "\n",
    "    return wishlist_gpu, wishlist_cpu"
   ]
  },
  {
   "cell_type": "code",
   "execution_count": null,
   "metadata": {},
   "outputs": [],
   "source": [
    "def update_gpu(gpu_recs):\n",
    "    new_products = []\n",
    "   \n",
    "    try:\n",
    "\n",
    "        for i, row in gpu_recs.iterrows():\n",
    "            query = (\"\"\"SELECT id FROM recommendation_gpu WHERE id = %s\"\"\")\n",
    "            cur.execute(query, (i,))\n",
    "            product = cur.fetchone()\n",
    "            \n",
    "            if product is not None:\n",
    "                 for recs in row['recommendations']:\n",
    "                    query = (\"\"\" UPDATE recommendation_gpu SET recommended_id = %s WHERE product_id = %s\"\"\")\n",
    "                    cur.execute(query, (recs, uuid.UUID(i)))\n",
    "                    con.commit()\n",
    "            else:\n",
    "                new_products.append((i, row['recommendations']))\n",
    "                \n",
    "            \n",
    "    except(psycopg2.DatabaseError) as err:\n",
    "        print(err)\n",
    "    finally:\n",
    "        return new_products"
   ]
  },
  {
   "cell_type": "code",
   "execution_count": null,
   "metadata": {},
   "outputs": [],
   "source": [
    "def update_cpu(cpu_recs):\n",
    "    new_products = []\n",
    "    try:\n",
    "        for i, row in cpu_recs.iterrows():\n",
    "            query = (\"\"\"SELECT product_id FROM recommendation_cpu WHERE product_id = %s\"\"\")\n",
    "            cur.execute(query, (i,))\n",
    "            product = cur.fetchone()\n",
    "\n",
    "            if product is not None:\n",
    "                for recs in row['recommendations']:\n",
    "                    query = (\"\"\" UPDATE recommendation_cpu SET recommended_id = %s WHERE product_id = %s\"\"\")\n",
    "                    cur.execute(query, (recs, uuid.UUID(i)))\n",
    "                    con.commit()\n",
    "            else:\n",
    "                new_products.append((i, row['recommendations']))\n",
    "\n",
    "            \n",
    "    except(psycopg2.DatabaseError) as err:\n",
    "        print(err)\n",
    "    finally:\n",
    "        return new_products"
   ]
  },
  {
   "cell_type": "code",
   "execution_count": null,
   "metadata": {},
   "outputs": [],
   "source": [
    "def insert_cpu(id, cpu_arr):\n",
    "    psycopg2.extras.register_uuid()\n",
    "    for cpu in cpu_arr:\n",
    "        query = (\"\"\"INSERT INTO recommendation_cpu (product_id, recommended_id) VALUES (%s, %s);\"\"\")\n",
    "        cur.execute(query,(id, cpu))\n",
    "        con.commit()\n",
    "\n",
    "\n",
    "def insert_gpu(id, gpu_arr):\n",
    "    psycopg2.extras.register_uuid()\n",
    "    for gpu in gpu_arr:\n",
    "        query = (\"\"\"INSERT INTO recommendation_gpu (product_id, recommended_id) VALUES (%s, %s);\"\"\")\n",
    "        cur.execute(query,(id, gpu))\n",
    "        con.commit()\n"
   ]
  },
  {
   "cell_type": "code",
   "execution_count": null,
   "metadata": {},
   "outputs": [],
   "source": []
  },
  {
   "cell_type": "code",
   "execution_count": null,
   "metadata": {},
   "outputs": [],
   "source": [
    " wishlist_products = get_wishlist(cur, con)\n",
    "\n",
    "global all_products\n",
    "all_products = get_all_products(cur, con)\n",
    "\n",
    "\n",
    "#all_products.set_index('id', inplace=True)\n",
    "all_products.rename(columns={'id': 'product_id'}, inplace=True)\n",
    "all_products['all_features'] = all_products['brand'] +\" \"+ all_products['retailer'] +\" \"+ all_products['description_cl']\n",
    "all_products['all_features'] = all_products['all_features'].apply(lambda x: x.lower())\n",
    "\n",
    "vectorizor = TfidfVectorizer(analyzer='word', ngram_range=(1, 3), min_df=0)\n",
    "tfidf_matrix = vectorizor.fit_transform(all_products['all_features'])\n",
    "\n",
    "global similarity\n",
    "similarity = linear_kernel(tfidf_matrix, tfidf_matrix)\n",
    "\n",
    "global rec\n",
    "rec = pd.Series(all_products['product_id'])\n",
    "\n",
    "gpu_recs, cpu_recs = get_all_product_recommendations(wishlist_products)\n",
    "\n",
    "\n",
    "new_gpu = update_gpu(gpu_recs)\n",
    "new_cpu = update_cpu(cpu_recs)\n",
    "\n",
    "if new_gpu is not None:\n",
    "    df_gpu = pd.DataFrame(new_gpu, columns=['id', 'recs'])\n",
    "\n",
    "    for i, row in df_gpu.iterrows():\n",
    "        insert_gpu(row['id'], row['recs'])\n",
    "\n",
    "if new_cpu is not None:\n",
    "    df_cpu = pd.DataFrame(new_cpu, columns=['id', 'recs'])\n",
    "    for i, row in df_cpu.iterrows():\n",
    "        insert_cpu(row['id'], row['recs'])\n",
    "con.close()\n"
   ]
  },
  {
   "cell_type": "code",
   "execution_count": null,
   "metadata": {},
   "outputs": [],
   "source": [
    "def main():\n",
    "    #get users\n",
    "    cur, con = connect()\n",
    "    users = get_users(cur, con)\n",
    "    \n",
    "    #get users wishlist; filter\n",
    "    wishlist_products = get_wishlist(cur, con)\n",
    "    \n",
    "    #get all products that are not in wishlist; filter\n",
    "    all_products = get_all_products(cur, con)\n",
    "    #encode data \n",
    "    \n",
    "    #predict"
   ]
  }
 ],
 "metadata": {
  "kernelspec": {
   "display_name": "Python 3",
   "language": "python",
   "name": "python3"
  },
  "language_info": {
   "codemirror_mode": {
    "name": "ipython",
    "version": 3
   },
   "file_extension": ".py",
   "mimetype": "text/x-python",
   "name": "python",
   "nbconvert_exporter": "python",
   "pygments_lexer": "ipython3",
   "version": "3.8.5"
  }
 },
 "nbformat": 4,
 "nbformat_minor": 4
}
