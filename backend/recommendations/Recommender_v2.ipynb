{
 "cells": [
  {
   "cell_type": "code",
   "execution_count": 44,
   "metadata": {},
   "outputs": [],
   "source": [
    "import pandas as pd \n",
    "import json\n",
    "import re\n",
    "import psycopg2\n",
    "import nltk\n",
    "import nan \n",
    "from nltk.corpus import stopwords\n",
    "from configparser import ConfigParser\n",
    "from sklearn.feature_extraction.text import TfidfVectorizer\n",
    "\n",
    "stopwords = set(stopwords.words('english'))"
   ]
  },
  {
   "cell_type": "code",
   "execution_count": 60,
   "metadata": {},
   "outputs": [],
   "source": [
    "#This function facilitates the connection to the database\n",
    "def connect():\n",
    "    try:\n",
    "        \n",
    "        parser = ConfigParser()\n",
    "        parser.read('database.ini')\n",
    "\n",
    "        #params = config()\n",
    "        host = parser.get('postgresql','DB_HOST')\n",
    "        port = parser.get('postgresql','DB_PORT')\n",
    "        database =parser.get('postgresql','DB_NAME')\n",
    "        user = parser.get('postgresql','DB_USER')\n",
    "        password = parser.get('postgresql','DB_PW')\n",
    "\n",
    "        #params = config()\n",
    "        #print(host, port, password, user, database)\n",
    "        conn = psycopg2.connect(host=host, port=port, database=database, user=user, password=password)\n",
    "\n",
    "        curr = conn.cursor()\n",
    "        \n",
    "#         query = \"\"\"SELECT table_name from information_schema.tables WHERE table_schema = 'public'\"\"\"\n",
    "#         curr.execute(query)\n",
    "        \n",
    "#         rows = curr.fetchall()\n",
    "\n",
    "#         for row in rows:\n",
    "#             print(row[0])\n",
    "\n",
    "        return curr, conn\n",
    "    except( Exception, psycopg2.DatabaseError) as err:\n",
    "        print(err)\n",
    "    \n"
   ]
  },
  {
   "cell_type": "code",
   "execution_count": 58,
   "metadata": {},
   "outputs": [
    {
     "name": "stdout",
     "output_type": "stream",
     "text": [
      "                                      id                    username\n",
      "0   c8a93f30-fe1b-4cea-a7e2-49c37e908133                       Louis\n",
      "1   0593c284-4bcf-4589-aa5a-19d34f665044                       Thato\n",
      "2   1817e726-76f8-4909-a175-5e623459df52                    Mpendulo\n",
      "3   4757b4f9-a567-49aa-bfb8-ddcee00218df                        Tana\n",
      "4   219addc5-102c-405e-9859-5c4e6baf7588                       Vince\n",
      "5   421b8bf1-d3cf-4285-9132-ed38f63efbde                    Tanatswa\n",
      "6   a8cc8896-d967-4158-8e7e-ce8623b4ad0c                        Test\n",
      "7   9ed990de-d9be-4f71-a511-57d26500bf8c                        Jean\n",
      "8   55c9b00f-6833-4f1f-8141-c0ba887e4d66                         Get\n",
      "9   37641731-3ccf-4cca-8334-76fbc9ac9411                         Set\n",
      "10  d5df0e03-c7c1-47d1-bda7-ac698c95aea6  dtanatswa.social@gmail.com\n",
      "11  a26dd07e-3a9c-498e-90f1-8658eb0d5c2a  tanatswa.dendere@gmail.com\n",
      "12  ee3f5393-0d27-40da-b0e3-03d573e5e9b0              tana@gmail.com\n"
     ]
    }
   ],
   "source": [
    "#A function that gets the user table and returns it as a dataframe\n",
    "def get_users(curr, conn):\n",
    "    query = \"SELECT id FROM users\"\n",
    "    table = pd.read_sql_query(query, conn)\n",
    "    table = pd.DataFrame(table)\n",
    "    return table\n",
    "    print(table)\n",
    "    #table\n",
    "    \n",
    "cur, con = connect()\n",
    "getUsers(cur, con)\n",
    "#con.close()\n",
    "#cur.close()"
   ]
  },
  {
   "cell_type": "code",
   "execution_count": null,
   "metadata": {},
   "outputs": [],
   "source": [
    "def remove_columns_from_products(table):\n",
    "    #table.drop(['image', 'link', 'price', 'availability', 'retailer', 'details'], axis=1, inplace=True)\n",
    "    table.dropna(inplace=True)"
   ]
  },
  {
   "cell_type": "code",
   "execution_count": 61,
   "metadata": {},
   "outputs": [
    {
     "name": "stdout",
     "output_type": "stream",
     "text": [
      "could not translate host name \"siliconscraper-1.csvt0txubrxm.us-east-2.rds.amazonaws.com\" to address: Unknown host\n",
      "\n"
     ]
    },
    {
     "ename": "TypeError",
     "evalue": "cannot unpack non-iterable NoneType object",
     "output_type": "error",
     "traceback": [
      "\u001b[1;31m---------------------------------------------------------------------------\u001b[0m",
      "\u001b[1;31mTypeError\u001b[0m                                 Traceback (most recent call last)",
      "\u001b[1;32m<ipython-input-61-e29bf3e78758>\u001b[0m in \u001b[0;36m<module>\u001b[1;34m\u001b[0m\n\u001b[0;32m      2\u001b[0m     \u001b[0mcon\u001b[0m\u001b[1;33m.\u001b[0m\u001b[0mclose\u001b[0m\u001b[1;33m(\u001b[0m\u001b[1;33m)\u001b[0m\u001b[1;33m\u001b[0m\u001b[1;33m\u001b[0m\u001b[0m\n\u001b[0;32m      3\u001b[0m     \u001b[0mcur\u001b[0m\u001b[1;33m.\u001b[0m\u001b[0mclose\u001b[0m\u001b[1;33m(\u001b[0m\u001b[1;33m)\u001b[0m\u001b[1;33m\u001b[0m\u001b[1;33m\u001b[0m\u001b[0m\n\u001b[1;32m----> 4\u001b[1;33m \u001b[0mcur\u001b[0m\u001b[1;33m,\u001b[0m \u001b[0mcon\u001b[0m \u001b[1;33m=\u001b[0m \u001b[0mconnect\u001b[0m\u001b[1;33m(\u001b[0m\u001b[1;33m)\u001b[0m\u001b[1;33m\u001b[0m\u001b[1;33m\u001b[0m\u001b[0m\n\u001b[0m\u001b[0;32m      5\u001b[0m \u001b[0mgetUser\u001b[0m\u001b[1;33m(\u001b[0m\u001b[0mcur\u001b[0m\u001b[1;33m,\u001b[0m \u001b[0mcon\u001b[0m\u001b[1;33m)\u001b[0m\u001b[1;33m\u001b[0m\u001b[1;33m\u001b[0m\u001b[0m\n",
      "\u001b[1;31mTypeError\u001b[0m: cannot unpack non-iterable NoneType object"
     ]
    }
   ],
   "source": [
    "def get_wishlist(cur, con):\n",
    "    query = \"SELECT * FROM wishilist_cpu\"\n",
    "    cpus = pd.read_sql_query(query, con)\n",
    "    cpus = pd.DataFrame(cpus)\n",
    "    \n",
    "    query = \"SELECT * FROM wishilist_gpu\"\n",
    "    gpus = pd.read_sql_query(query, con)\n",
    "    \n",
    "    table = cpus.append(gpus)\n",
    "    #any preprocessing needing to be done\n",
    "    #table = remove_columns_from_products(table)\n",
    "    return table \n",
    "\n",
    "cur, con = connect()\n",
    "get_wishlist(cur, con)"
   ]
  },
  {
   "cell_type": "code",
   "execution_count": 62,
   "metadata": {},
   "outputs": [
    {
     "ename": "SyntaxError",
     "evalue": "unexpected EOF while parsing (<ipython-input-62-fefe4e811369>, line 1)",
     "output_type": "error",
     "traceback": [
      "\u001b[1;36m  File \u001b[1;32m\"<ipython-input-62-fefe4e811369>\"\u001b[1;36m, line \u001b[1;32m1\u001b[0m\n\u001b[1;33m    def get_all_products(cur, con):\u001b[0m\n\u001b[1;37m                                   ^\u001b[0m\n\u001b[1;31mSyntaxError\u001b[0m\u001b[1;31m:\u001b[0m unexpected EOF while parsing\n"
     ]
    }
   ],
   "source": [
    "def get_all_products(cur, con):\n",
    "    query = \"SELECT id, brand, type, description FROM cpus\"\n",
    "    cpus = pd.read_sql_query(query, con)\n",
    "    cpus = pd.DataFrame(cpus)\n",
    "    \n",
    "    query = \"SELECT id, brand, type, description FROM gpu\"\n",
    "    gpus = pd.read_sql_query(query, con)\n",
    "    \n",
    "    table = cpus.append(gpus)\n",
    "    \n",
    "    # any preprocessing needed to be done\n",
    "    table.dropna(inplace=True)\n",
    "    \n",
    "    return table"
   ]
  },
  {
   "cell_type": "code",
   "execution_count": null,
   "metadata": {},
   "outputs": [],
   "source": [
    "#remove all products that are already in a wishlist \n",
    "#all_products = all_products.loc[all_products[all_products['id'] != wishlist_products['id']]]\n"
   ]
  },
  {
   "cell_type": "code",
   "execution_count": 54,
   "metadata": {},
   "outputs": [],
   "source": [
    "#This function sorts the cpu products by renaming and merging columns for consistency\n",
    "def filter_cpu(data):\n",
    "    data_des = data[['type', 'retailer', 'brand','# of CPU Cores', '# of Threads', 'Base Clock', 'Max Boost Clock',\n",
    "                                        'Default TDP / TDP', 'Processor Base Frequency','Max Turbo Frequency', 'TDP']]\n",
    "    \n",
    "    df_change = data_des.loc[data_des['Base Clock'].isnull()]\n",
    "    data_des.drop(df_change.index, inplace=True)\n",
    "    df_change.drop(['Base Clock', 'Default TDP / TDP', 'Max Boost Clock'], axis=1, inplace=True)\n",
    "    df_change.rename({'Processor Base Frequency': 'Base Clock', 'Max Turbo Frequency': 'Max Boost Clock'}, axis=1, inplace=True)\n",
    "    \n",
    "    data_des.drop(['Processor Base Frequency', 'Max Turbo Frequency', 'TDP'], axis=1, inplace=True)\n",
    "    data_des.rename({'Default TDP / TDP': 'TDP'}, axis=1, inplace=True)\n",
    "    data_des = pd.merge(data_des, df_change, how='outer')\n",
    "    return data_des\n"
   ]
  },
  {
   "cell_type": "code",
   "execution_count": null,
   "metadata": {},
   "outputs": [],
   "source": [
    "cur, con = connect()\n",
    "\n",
    "wishlist_products = get_wishlist(cur, con)\n",
    "wishlist_products.drop_duplicates(subset='product_id', keep=False, inplace=True)\n",
    "\n",
    "all_products = get_all_products(cur, con)"
   ]
  },
  {
   "cell_type": "code",
   "execution_count": null,
   "metadata": {},
   "outputs": [],
   "source": [
    "modify = re.compile(r\"\\([^(),{}]*\\)\")\n",
    "def clean_data(text):\n",
    "    if text == '' or not list(text):\n",
    "        return math.nan\n",
    "    final = [(x +\"-\" + y).lower() for x,y in zip(list(text), list(text.values()))]\n",
    "    return \"  \".join(final)\n",
    "\n",
    "all_products.dropna(inplace=True)\n",
    "all_products['descriptions_cl'] = all_products['descriptions'].apply(clean_data)\n",
    "all_products.drop(['description'], axis=1, inplace=True)\n",
    "all_products.dropna(inplace=True)"
   ]
  },
  {
   "cell_type": "code",
   "execution_count": null,
   "metadata": {},
   "outputs": [],
   "source": [
    "#vectorize products and calculate similarity \n",
    "all_products.set_index('id', inplace=True)\n",
    "all_products['all_features'] = all_products['brand'] +\" \"+ all_products['retailer'] +\" \"+ all_products['description_cl']\n",
    "vectorizor = TfidfVectorizer(analyzer='word', ngram_range=(1, 3), min_df=0)\n",
    "tfidf_matrix = vectorizor.fit_transform(all_products['all_features'])\n",
    "similarity = linear_kernel(tfidf_matrix, tfidf_matrix)\n",
    "similarity"
   ]
  },
  {
   "cell_type": "code",
   "execution_count": null,
   "metadata": {},
   "outputs": [],
   "source": [
    "rec = pd.Series(all_products.index)\n",
    "\n",
    "#function to carry through the recommending \n",
    "def recommend(idx, cosine = similarity):\n",
    "    \n",
    "    #find the index of the product in the index series\n",
    "    item = rec[rec == idx].index[0]\n",
    "    \n",
    "    #get array of similarities and sort them in descending order\n",
    "    similarities = list(enumerate(cosine[item]))\n",
    "    similarities = sorted(similarities, key=lambda x: x[1], reverse=True)\n",
    "    \n",
    "    #get the top 5 products, excluding the product itself and products in the users watchlist \n",
    "    similarities = similarities[1:6]\n",
    "    \n",
    "    #get index of top 5 \n",
    "    index = [i[0] for i in similarities]\n",
    "    \n",
    "    #get the products using the the retrieved index\n",
    "    return all_products.iloc[index]"
   ]
  },
  {
   "cell_type": "code",
   "execution_count": null,
   "metadata": {},
   "outputs": [],
   "source": [
    "#get recommendations for all products in wishlist \n",
    "recs = []\n",
    "wishlist = list(wishlist_description['id'])\n",
    "for i, product in enumerate(wishlist):\n",
    "    response = list(recommend(product).index)\n",
    "    recs.append(response)\n",
    "    \n",
    "\n",
    "result = pd.DataFrame(wishlist_description['id'], columns=['id','recommendations'])\n",
    "result['recommendations'] = recs\n",
    "result.set_index('id', inplace=True)"
   ]
  },
  {
   "cell_type": "code",
   "execution_count": null,
   "metadata": {},
   "outputs": [],
   "source": [
    "#calculate loss "
   ]
  },
  {
   "cell_type": "code",
   "execution_count": null,
   "metadata": {},
   "outputs": [],
   "source": [
    "def main():\n",
    "    #get users\n",
    "    cur, con = connect()\n",
    "    users = get_users(cur, con)\n",
    "    \n",
    "    #get users wishlist; filter\n",
    "    wishlist_products = get_wishlist(cur, con)\n",
    "    \n",
    "    #get all products that are not in wishlist; filter\n",
    "    all_products = get_all_products(cur, con)\n",
    "    #encode data \n",
    "    \n",
    "    #predict"
   ]
  }
 ],
 "metadata": {
  "kernelspec": {
   "display_name": "Python 3",
   "language": "python",
   "name": "python3"
  },
  "language_info": {
   "codemirror_mode": {
    "name": "ipython",
    "version": 3
   },
   "file_extension": ".py",
   "mimetype": "text/x-python",
   "name": "python",
   "nbconvert_exporter": "python",
   "pygments_lexer": "ipython3",
   "version": "3.8.5"
  }
 },
 "nbformat": 4,
 "nbformat_minor": 4
}
