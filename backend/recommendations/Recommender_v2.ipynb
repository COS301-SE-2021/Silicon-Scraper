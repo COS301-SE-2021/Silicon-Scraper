{
 "cells": [
  {
   "cell_type": "code",
   "execution_count": null,
   "metadata": {},
   "outputs": [],
   "source": [
    "import pandas as pd \n",
    "import json\n",
    "from sklearn.feature_extraction.text import TfidfVectorizer"
   ]
  },
  {
   "cell_type": "code",
   "execution_count": null,
   "metadata": {},
   "outputs": [],
   "source": [
    "#get data from db\n"
   ]
  },
  {
   "cell_type": "code",
   "execution_count": null,
   "metadata": {},
   "outputs": [],
   "source": [
    "#This function sorts the cpu products by renaming and merging columns for consistency\n",
    "def filter_cpu(data):\n",
    "    data_des = data[['type', 'retailer', 'brand','# of CPU Cores', '# of Threads', 'Base Clock', 'Max Boost Clock',\n",
    "                                        'Default TDP / TDP', 'Processor Base Frequency','Max Turbo Frequency', 'TDP']]\n",
    "    \n",
    "    df_change = data_des.loc[data_des['Base Clock'].isnull()]\n",
    "    data_des.drop(df_change.index, inplace=True)\n",
    "    df_change.drop(['Base Clock', 'Default TDP / TDP', 'Max Boost Clock'], axis=1, inplace=True)\n",
    "    df_change.rename({'Processor Base Frequency': 'Base Clock', 'Max Turbo Frequency': 'Max Boost Clock'}, axis=1, inplace=True)\n",
    "    \n",
    "    data_des.drop(['Processor Base Frequency', 'Max Turbo Frequency', 'TDP'], axis=1, inplace=True)\n",
    "    data_des.rename({'Default TDP / TDP': 'TDP'}, axis=1, inplace=True)\n",
    "    data_des = pd.merge(data_des, df_change, how='outer')\n",
    "    return data_des\n"
   ]
  },
  {
   "cell_type": "code",
   "execution_count": null,
   "metadata": {},
   "outputs": [],
   "source": [
    "def main():\n",
    "    #get users\n",
    "    #get users wishlist; filter\n",
    "    #get all products that are not in wishlist; filter\n",
    "    #encode data \n",
    "    #predict"
   ]
  }
 ],
 "metadata": {
  "kernelspec": {
   "display_name": "Python 3",
   "language": "python",
   "name": "python3"
  },
  "language_info": {
   "codemirror_mode": {
    "name": "ipython",
    "version": 3
   },
   "file_extension": ".py",
   "mimetype": "text/x-python",
   "name": "python",
   "nbconvert_exporter": "python",
   "pygments_lexer": "ipython3",
   "version": "3.8.5"
  }
 },
 "nbformat": 4,
 "nbformat_minor": 4
}
