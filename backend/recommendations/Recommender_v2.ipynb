{
 "cells": [
  {
   "cell_type": "code",
   "execution_count": 44,
   "metadata": {},
   "outputs": [],
   "source": [
    "import pandas as pd \n",
    "import json\n",
    "import os\n",
    "import psycopg2\n",
    "from configparser import ConfigParser\n",
    "from config import config\n",
    "from sklearn.feature_extraction.text import TfidfVectorizer"
   ]
  },
  {
   "cell_type": "code",
   "execution_count": 49,
   "metadata": {},
   "outputs": [
    {
     "name": "stdout",
     "output_type": "stream",
     "text": [
      "users\n",
      "watchlist_gpu\n",
      "watchlist_cpu\n",
      "cpus\n",
      "gpus\n",
      "device_tokens\n",
      "review_sentiments\n"
     ]
    }
   ],
   "source": [
    "#This function facilitates the connection to the database\n",
    "def connect():\n",
    "    try:\n",
    "        \n",
    "        parser = ConfigParser()\n",
    "        parser.read('database.ini')\n",
    "\n",
    "        #params = config()\n",
    "        host = parser.get('postgresql','DB_HOST')\n",
    "        port = parser.get('postgresql','DB_PORT')\n",
    "        database =parser.get('postgresql','DB_NAME')\n",
    "        user = parser.get('postgresql','DB_USER')\n",
    "        password = parser.get('postgresql','DB_PW')\n",
    "\n",
    "        #params = config()\n",
    "        #print(host, port, password, user, database)\n",
    "        conn = psycopg2.connect(host=host, port=port, database=database, user=user, password=password)\n",
    "\n",
    "        curr = conn.cursor()\n",
    "        \n",
    "        query = \"\"\"SELECT table_name from information_schema.tables WHERE table_schema = 'public'\"\"\"\n",
    "        curr.execute(query)\n",
    "        \n",
    "        rows = curr.fetchall()\n",
    "\n",
    "        for row in rows:\n",
    "            print(row[0])\n",
    "    except( Exception, psycopg2.DatabaseError) as err:\n",
    "        print(err)\n",
    "    finally:\n",
    "        if conn is not None:\n",
    "            conn.close()\n",
    "            curr.close()\n",
    "    \n"
   ]
  },
  {
   "cell_type": "code",
   "execution_count": null,
   "metadata": {},
   "outputs": [],
   "source": [
    "def getUsers(curr):\n",
    "    "
   ]
  },
  {
   "cell_type": "code",
   "execution_count": 28,
   "metadata": {},
   "outputs": [],
   "source": [
    "#This function sorts the cpu products by renaming and merging columns for consistency\n",
    "def filter_cpu(data):\n",
    "    data_des = data[['type', 'retailer', 'brand','# of CPU Cores', '# of Threads', 'Base Clock', 'Max Boost Clock',\n",
    "                                        'Default TDP / TDP', 'Processor Base Frequency','Max Turbo Frequency', 'TDP']]\n",
    "    \n",
    "    df_change = data_des.loc[data_des['Base Clock'].isnull()]\n",
    "    data_des.drop(df_change.index, inplace=True)\n",
    "    df_change.drop(['Base Clock', 'Default TDP / TDP', 'Max Boost Clock'], axis=1, inplace=True)\n",
    "    df_change.rename({'Processor Base Frequency': 'Base Clock', 'Max Turbo Frequency': 'Max Boost Clock'}, axis=1, inplace=True)\n",
    "    \n",
    "    data_des.drop(['Processor Base Frequency', 'Max Turbo Frequency', 'TDP'], axis=1, inplace=True)\n",
    "    data_des.rename({'Default TDP / TDP': 'TDP'}, axis=1, inplace=True)\n",
    "    data_des = pd.merge(data_des, df_change, how='outer')\n",
    "    return data_des\n"
   ]
  },
  {
   "cell_type": "code",
   "execution_count": null,
   "metadata": {},
   "outputs": [],
   "source": [
    "def main():\n",
    "    #get users\n",
    "    #get users wishlist; filter\n",
    "    #get all products that are not in wishlist; filter\n",
    "    #encode data \n",
    "    #predict"
   ]
  }
 ],
 "metadata": {
  "kernelspec": {
   "display_name": "Python 3",
   "language": "python",
   "name": "python3"
  },
  "language_info": {
   "codemirror_mode": {
    "name": "ipython",
    "version": 3
   },
   "file_extension": ".py",
   "mimetype": "text/x-python",
   "name": "python",
   "nbconvert_exporter": "python",
   "pygments_lexer": "ipython3",
   "version": "3.8.5"
  }
 },
 "nbformat": 4,
 "nbformat_minor": 4
}
