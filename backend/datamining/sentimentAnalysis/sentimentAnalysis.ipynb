{
 "cells": [
  {
   "cell_type": "code",
   "execution_count": 10,
   "source": [
    "sentences = [\n",
    "    'The RTX3080 is a marvel to behold.',\n",
    "    'This model\"s price has decreased compared to previous models.',\n",
    "    'The temperature of this model is a bit hot.',\n",
    "    'The cooling is honestly terrible.',\n",
    "    'The next installment in the RTX-series is one of a kind.',\n",
    "    'The RTX 3080 is a beast.'\n",
    "]"
   ],
   "outputs": [],
   "metadata": {}
  },
  {
   "cell_type": "code",
   "execution_count": 14,
   "source": [
    "import nltk"
   ],
   "outputs": [],
   "metadata": {}
  },
  {
   "cell_type": "code",
   "execution_count": 17,
   "source": [
    "global dtn\n",
    "global adjectives\n",
    "adjectives = []\n",
    "global all_sentnc\n",
    "all_sentnc = []\n",
    "\n",
    "def processing(id, content):\n",
    "    global dtn\n",
    "    global adjectives\n",
    "    global all_sentnc\n",
    "\n",
    "    sentnc_list = []\n",
    "    sentnc_list_NN = []\n",
    "    sentnc_list_JJ = []\n",
    "\n",
    "    sentence_info = []\n",
    "    sentence_info.append(id)\n",
    "    sentence_info.append(content)\n",
    "\n",
    "    all_sentnc.append(sentence_info)\n",
    "    sentence_info = []\n",
    "\n",
    "    tokenized = nltk.word_tokenize(content)\n",
    "    tagged_list = nltk.pos_tag(tokenized)\n",
    "\n",
    "    for entry in tagged_list:\n",
    "        if \"JJ\" in entry:\n",
    "            sentnc_list_JJ.append(entry[0])\n",
    "        elif \"NN\" in entry or \"NNS\" in entry or \"NNP\" in entry or \"NNPS\" in entry:\n",
    "            sentnc_list_NN.append(entry[0])\n",
    "\n",
    "    sentnc_list.append(sentnc_list_NN)\n",
    "    sentnc_list.append(sentnc_list_JJ)\n",
    "\n",
    "    adjectives.append(sentnc_list)"
   ],
   "outputs": [],
   "metadata": {}
  },
  {
   "cell_type": "code",
   "execution_count": 21,
   "source": [
    "def getSentences():\n",
    "    return all_sentnc"
   ],
   "outputs": [],
   "metadata": {}
  },
  {
   "cell_type": "code",
   "execution_count": null,
   "source": [],
   "outputs": [],
   "metadata": {}
  }
 ],
 "metadata": {
  "kernelspec": {
   "name": "python3",
   "display_name": "Python 3.8.8 64-bit ('base': conda)"
  },
  "language_info": {
   "codemirror_mode": {
    "name": "ipython",
    "version": 3
   },
   "file_extension": ".py",
   "mimetype": "text/x-python",
   "name": "python",
   "nbconvert_exporter": "python",
   "pygments_lexer": "ipython3",
   "version": "3.8.8"
  },
  "interpreter": {
   "hash": "235925901c488dc892d2f89dd3f7c0ff4d9c393ea687e852d9b2cae4ba30a691"
  }
 },
 "nbformat": 4,
 "nbformat_minor": 1
}