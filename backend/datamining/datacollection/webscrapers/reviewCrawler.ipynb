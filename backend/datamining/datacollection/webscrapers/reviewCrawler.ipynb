{
 "cells": [
  {
   "cell_type": "code",
   "execution_count": 2,
   "source": [
    "import requests\n",
    "from bs4 import BeautifulSoup\n"
   ],
   "outputs": [],
   "metadata": {}
  },
  {
   "cell_type": "code",
   "execution_count": 3,
   "source": [
    "URL = \"https://www.techpowerup.com/review/?category=Graphics+Cards&manufacturer=&pp=25&order=date\"\n",
    "page = requests.get(URL)\n",
    "\n",
    "soup = BeautifulSoup(page.content, \"html.parser\")"
   ],
   "outputs": [],
   "metadata": {}
  },
  {
   "cell_type": "code",
   "execution_count": 38,
   "source": [
    "results = soup.find(id=\"list\")\n",
    "results = results.find_all(class_=\"clearfix\")"
   ],
   "outputs": [],
   "metadata": {}
  },
  {
   "cell_type": "code",
   "execution_count": 39,
   "source": [
    "results[0].find_next(class_=\"teaser\")\n",
    "reviews = [{\"title\": item.find_next(class_=\"title\").text, \"review\": item.find_next(class_=\"teaser\").text} for item in results]\n",
    "reviews"
   ],
   "outputs": [
    {
     "output_type": "execute_result",
     "data": {
      "text/plain": [
       "[{'title': '\\nAMD Radeon RX 6600 XT PCI-Express Scaling\\n',\n",
       "  'review': <div class=\"teaser\">\n",
       "  \t\tWhen the Radeon RX 6600 XT launched with an interface limited to PCI-Express 4.0 x8, lots of discussion emerged about how AMD crippled the bandwidth, and how much it affects the gaming experience. In this article, we're taking a close look at exactly that, comparing 22 titles running at PCIe 4.0, 3.0, 2.0, and even 1.1. Frametimes are included, too.\n",
       "  \t</div>},\n",
       " {'title': '\\nASRock Radeon RX 6600 XT Phantom Gaming D Review - Best Overclocker, Best Cooler\\n',\n",
       "  'review': <div class=\"teaser\">\n",
       "  \t\tThe ASRock Radeon RX 6600 XT Phantom Gaming comes with the best cooler of all the RX 6600 XT cards we've tested so far. Fan settings are excellent, too: The card is whisper-quiet and runs only 61°C under full load. In our manual OC testing, we saw excellent results, better than all other RX 6600 XT cards.\n",
       "  \t</div>},\n",
       " {'title': '\\nSapphire Radeon RX 6600 XT Pulse OC Review\\n',\n",
       "  'review': <div class=\"teaser\">\n",
       "  \t\tSapphire's Pulse is a cost-efficient, no-frills Radeon RX 6600 XT custom design that comes in at only a small price increase over the AMD base price. In our review, we found that the card still achieves excellent noise levels while also keeping temperatures low.\n",
       "  \t</div>},\n",
       " {'title': '\\nXFX Radeon RX 6600 XT Speedster Merc 308 Review\\n',\n",
       "  'review': <div class=\"teaser\">\n",
       "  \t\tThe XFX Radeon RX 6600 XT Merc 308 is a custom-design card that can impress with its ultra-quiet operation. It's pretty much inaudible even when fully loaded, making it the quietest RX 6600 XT we have tested. The card is also of standard-slot height, so it should fit all cases easily.\n",
       "  \t</div>},\n",
       " {'title': '\\nMSI Radeon RX 6600 XT Gaming X Review\\n',\n",
       "  'review': <div class=\"teaser\">\n",
       "  \t\tThe Radeon RX 6600 XT Gaming X is MSI's dual-fan, triple-slot flagship for AMD's new Full HD gaming champ. The card comes with an overclock out of the box and runs at great temperatures, while operating very quietly.\n",
       "  \t</div>},\n",
       " {'title': '\\nGigabyte GeForce RTX 3070 Ti Gaming OC Review\\n',\n",
       "  'review': <div class=\"teaser\">\n",
       "  \t\tThe Gigabyte GeForce RTX 3070 Ti Gaming OC is a factory-overclocked custom design sporting a new cooling solution. The triple-slot, triple-fan cooler lets air flow through the card and achieves excellent memory temperatures thanks to a new baseplate design. As soon as you activate the \"quiet\" BIOS, noise levels are good, too.\n",
       "  \t</div>},\n",
       " {'title': '\\nAMD FSR FidelityFX Super Resolution Quality & Performance Review\\n',\n",
       "  'review': <div class=\"teaser\">\n",
       "  \t\tFinally! AMD has its NVIDIA DLSS competitor ready, and it even works on NVIDIA cards. We're testing the company's new super-resolution technology in five games. The comparison images in our AMD FSR review let you dig into all the finer details, and our performance results cover multiple generations from both AMD and NVIDIA.\n",
       "  \t</div>},\n",
       " {'title': '\\nNVIDIA GeForce RTX 3070 Ti Founders Edition Review\\n',\n",
       "  'review': <div class=\"teaser\">\n",
       "  \t\tNVIDIA's new GeForce RTX 3070 Ti is designed to bring the fight to Radeon RX 6800 non-XT. To achieve their goal, NVIDIA maxed out the GA104 GPU design and switched to faster GDDR6X memory. Unfortunately, this also resulted in an increase in power consumption and heat output.\n",
       "  \t</div>},\n",
       " {'title': '\\nMSI GeForce RTX 3070 Ti Suprim X Review\\n',\n",
       "  'review': <div class=\"teaser\">\n",
       "  \t\tMSI's GeForce RTX 3070 Ti Suprim X is built around a massive cooler that achieves impressive temperature levels. What's even better is that the card runs much quieter than any other RTX 3070 Ti tested today: whisper-quiet, even when fully loaded.\n",
       "  \t</div>},\n",
       " {'title': '\\nPalit GeForce RTX 3070 Ti GameRock OC Review\\n',\n",
       "  'review': <div class=\"teaser\">\n",
       "  \t\tThe Palit GeForce RTX 3070 Ti GameRock OC is the fastest RTX 3070 Ti we review today. It not only comes with a large factory overclock, but is also pushed forward by a massive increase in power-limit headroom. This ensures that the card can boost higher than competing boards.\n",
       "  \t</div>},\n",
       " {'title': '\\nZotac GeForce RTX 3070 Ti AMP Holo Review\\n',\n",
       "  'review': <div class=\"teaser\">\n",
       "  \t\tWith the GeForce RTX 3070 Ti AMP Holo, Zotac sent us their top-dog RTX 3070 Ti. The card comes overclocked out of the box, using a large triple-slot, triple-fan cooler. Along the top edge, the company has placed a visually truly mesmerizing ARGB lighting element.\n",
       "  \t</div>},\n",
       " {'title': '\\nNVIDIA GeForce RTX 3080 Ti Founders Edition Review\\n',\n",
       "  'review': <div class=\"teaser\">\n",
       "  \t\tNVIDIA's GeForce RTX 3080 Ti is the green team's answer to AMD's recent Radeon launches. In our testing, this 12 GB card basically matches the much more expensive RTX 3090 24 GB in performance. The compact dual-slot Founders Edition design looks gorgeous and is of amazing build quality.\n",
       "  \t</div>},\n",
       " {'title': '\\nMSI GeForce RTX 3080 Ti Suprim X Review\\n',\n",
       "  'review': <div class=\"teaser\">\n",
       "  \t\tMSI's GeForce RTX 3080 Ti Suprim X comes with a huge triple-slot cooler that's 33 cm long. Its large factory OC makes the card faster than even the RTX 3090. Thanks to great fan settings, the card is the quietest RTX 3080 Ti tested today, even quieter than the watercooled ASUS STRIX LC. \n",
       "  \t</div>},\n",
       " {'title': '\\nASUS GeForce RTX 3080 Ti STRIX LC Liquid Cooled Review\\n',\n",
       "  'review': <div class=\"teaser\">\n",
       "  \t\tThe ASUS RTX 3080 Ti STRIX LC is THE overkill RTX 3080 Ti. It comes with a pre-filled watercooling unit, that provides cooling for the GPU and memory chips. Thanks to a factory overclock to 1830 MHz, this is the fastest RTX 3080 Ti we're testing today, but also the most expensive.\n",
       "  \t</div>},\n",
       " {'title': '\\nEVGA GeForce RTX 3080 Ti FTW3 Ultra Review\\n',\n",
       "  'review': <div class=\"teaser\">\n",
       "  \t\tEVGA's GeForce RTX 3080 Ti FTW3 Ultra comes with a large factory overclock, which results in out-of-the-box performance higher than even the RTX 3090. EVGA is also including nine additional temperature sensors and a large power limit adjustment range of up to 450 W.\n",
       "  \t</div>},\n",
       " {'title': '\\nZotac GeForce RTX 3080 Ti AMP HoloBlack Review\\n',\n",
       "  'review': <div class=\"teaser\">\n",
       "  \t\tThe Zotac GeForce RTX 3080 Ti AMP HoloBlack has the most mesmerizing RGB lighting effects. It also comes with a factory overclock to 1710 MHz and idle fan stop. What sets this card apart from other custom designs is that its energy efficiency is actually better than the NVIDIA reference design.\n",
       "  \t</div>},\n",
       " {'title': '\\nPalit GeForce RTX 3080 Ti GamingPro Review\\n',\n",
       "  'review': <div class=\"teaser\">\n",
       "  \t\tPalit's GeForce RTX 3080 Ti GamingPro is clocked at reference speeds, but doesn't come with a price increase over the NVIDIA MSRP. This makes the card an attractive option for gamers looking for the best 4K performance without overspend for fancy custom designs.\n",
       "  \t</div>},\n",
       " {'title': '\\nNVIDIA Reflex Tested with LDAT v2 - Making you a Better Gamer\\n',\n",
       "  'review': <div class=\"teaser\">\n",
       "  \t\tNVIDIA Reflex is a collection of advanced technologies set out to drastically reduce end-to-end system latency and make you a bigger threat on the virtual battlefield. We used the latest iteration of the Latency Display Analysis Tool to thoroughly test how Reflex behaves in practice.\n",
       "  \t</div>},\n",
       " {'title': '\\nASRock Radeon RX 6900 XT OC Formula Review - This Card is Fast\\n',\n",
       "  'review': <div class=\"teaser\">\n",
       "  \t\tThe ASRock Radeon RX 6900 XT OC Formula is built using AMD's new Navi 21 XTXH chip, which runs much higher clocks than what the regular RX 6900 XT can achieve. In our testing, this is the first AMD card in a long time to beat NVIDIA's current-generation flagship, the RTX 3090.\n",
       "  \t</div>},\n",
       " {'title': '\\nASRock Radeon RX 6700 XT Phantom Gaming D Review - The Fastest RX 6700 XT\\n',\n",
       "  'review': <div class=\"teaser\">\n",
       "  \t\tThe ASRock RX 6700 XT Phantom Gaming D is the first factory overclocked card that's actually faster than the AMD reference. All other competitors failed to deliver any performance gains. Not only out-of-the-box performance is good, overclocking is better than with any other RX 6700 XT, too.\n",
       "  \t</div>},\n",
       " {'title': '\\nNVIDIA PCI-Express Resizable BAR Performance Test - 22 Games, 3 Resolutions, RTX 3090, 3080, 3070, 3060 Ti\\n',\n",
       "  'review': <div class=\"teaser\">\n",
       "  \t\tPCI-Express Resizable BAR, pioneered by AMD, seems to be a magic bullet for unlocking additional double-digit FPS gains. NVIDIA finally released their implementation for GeForce Ampere cards. In our PCIe BAR review, we test the feature on RTX 3090, 3080, 3070, and 3060 Ti in 22 games, at Full HD, 1440p, and 4K.\n",
       "  \t</div>},\n",
       " {'title': '\\nGigabyte Radeon RX 6700 XT Gaming OC Review\\n',\n",
       "  'review': <div class=\"teaser\">\n",
       "  \t\tGigabyte's Radeon RX 6700 XT Gaming OC comes with a triple-fan, triple-slot cooler that achieves temperatures and noise levels that are better than the AMD RX 6700 XT reference design. Unlike many other cards, we saw good overclocking potential, better than nearly every other RX 6700 XT we've tested so far.\n",
       "  \t</div>},\n",
       " {'title': '\\nAMD Radeon RX 6700 XT Review\\n',\n",
       "  'review': <div class=\"teaser\">\n",
       "  \t\tThe AMD Radeon RX 6700 XT introduces the new Navi 22 GPU, which is optimized to take the fight to NVIDIA in the $500 segment. The RX 6700 XT in our review beats the RTX 3060 Ti with ease and achieves performance that rivals the more expensive RTX 3070, with lower fan noise.\n",
       "  \t</div>}]"
      ]
     },
     "metadata": {},
     "execution_count": 39
    }
   ],
   "metadata": {}
  }
 ],
 "metadata": {
  "orig_nbformat": 4,
  "language_info": {
   "name": "python",
   "version": "3.8.8",
   "mimetype": "text/x-python",
   "codemirror_mode": {
    "name": "ipython",
    "version": 3
   },
   "pygments_lexer": "ipython3",
   "nbconvert_exporter": "python",
   "file_extension": ".py"
  },
  "kernelspec": {
   "name": "python3",
   "display_name": "Python 3.8.8 64-bit ('base': conda)"
  },
  "interpreter": {
   "hash": "235925901c488dc892d2f89dd3f7c0ff4d9c393ea687e852d9b2cae4ba30a691"
  }
 },
 "nbformat": 4,
 "nbformat_minor": 2
}