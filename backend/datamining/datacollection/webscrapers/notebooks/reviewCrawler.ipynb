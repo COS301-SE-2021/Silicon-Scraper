{
 "cells": [
  {
   "cell_type": "code",
   "execution_count": 3,
   "metadata": {},
   "outputs": [],
   "source": [
    "import requests\n",
    "from bs4 import BeautifulSoup\n",
    "import pandas as pd\n"
   ]
  },
  {
   "cell_type": "code",
   "execution_count": 3,
   "metadata": {},
   "outputs": [],
   "source": [
    "URL = \"https://www.techpowerup.com/review/?category=Graphics+Cards&manufacturer=&pp=25&order=date\"\n",
    "page = requests.get(URL)\n",
    "\n",
    "soup = BeautifulSoup(page.content, \"html.parser\")"
   ]
  },
  {
   "cell_type": "code",
   "execution_count": 38,
   "metadata": {},
   "outputs": [],
   "source": [
    "results = soup.find(id=\"list\")\n",
    "results = results.find_all(class_=\"clearfix\")"
   ]
  },
  {
   "cell_type": "code",
   "execution_count": 41,
   "metadata": {},
   "outputs": [],
   "source": [
    "results[0].find_next(class_=\"teaser\")\n",
    "reviews = [{\"title\": item.find_next(class_=\"title\").text, \"review\": item.find_next(class_=\"teaser\").text} for item in results]"
   ]
  },
  {
   "cell_type": "code",
   "execution_count": 52,
   "metadata": {},
   "outputs": [
    {
     "data": {
      "text/plain": [
       "{'title': '\\nAMD Radeon RX 6600 XT PCI-Express Scaling\\n',\n",
       " 'review': \"\\n\\t\\tWhen the Radeon RX 6600 XT launched with an interface limited to PCI-Express 4.0 x8, lots of discussion emerged about how AMD crippled the bandwidth, and how much it affects the gaming experience. In this article, we're taking a close look at exactly that, comparing 22 titles running at PCIe 4.0, 3.0, 2.0, and even 1.1. Frametimes are included, too.\\n\\t\"}"
      ]
     },
     "execution_count": 52,
     "metadata": {},
     "output_type": "execute_result"
    }
   ],
   "source": [
    "reviews[0]"
   ]
  },
  {
   "cell_type": "code",
   "execution_count": 68,
   "metadata": {},
   "outputs": [],
   "source": [
    "def clean_data(review: dict) -> dict:\n",
    "    for condition in ((\"\\r\", \"\"), (\"\\n\", \"\"), (\"\\t\", \"\")):\n",
    "        review[\"title\"] = review[\"title\"].replace(*condition)\n",
    "        review[\"review\"] = review[\"review\"].replace(*condition)\n",
    "    return review"
   ]
  },
  {
   "cell_type": "code",
   "execution_count": 69,
   "metadata": {},
   "outputs": [],
   "source": [
    "for i in range(len(reviews)):\n",
    "    reviews[i] = clean_data(reviews[i])"
   ]
  },
  {
   "cell_type": "code",
   "execution_count": 70,
   "metadata": {
    "collapsed": true
   },
   "outputs": [
    {
     "data": {
      "text/plain": [
       "[{'title': 'AMD Radeon RX 6600 XT PCI-Express Scaling',\n",
       "  'review': \"When the Radeon RX 6600 XT launched with an interface limited to PCI-Express 4.0 x8, lots of discussion emerged about how AMD crippled the bandwidth, and how much it affects the gaming experience. In this article, we're taking a close look at exactly that, comparing 22 titles running at PCIe 4.0, 3.0, 2.0, and even 1.1. Frametimes are included, too.\"},\n",
       " {'title': 'ASRock Radeon RX 6600 XT Phantom Gaming D Review - Best Overclocker, Best Cooler',\n",
       "  'review': \"The ASRock Radeon RX 6600 XT Phantom Gaming comes with the best cooler of all the RX 6600 XT cards we've tested so far. Fan settings are excellent, too: The card is whisper-quiet and runs only 61°C under full load. In our manual OC testing, we saw excellent results, better than all other RX 6600 XT cards.\"},\n",
       " {'title': 'Sapphire Radeon RX 6600 XT Pulse OC Review',\n",
       "  'review': \"Sapphire's Pulse is a cost-efficient, no-frills Radeon RX 6600 XT custom design that comes in at only a small price increase over the AMD base price. In our review, we found that the card still achieves excellent noise levels while also keeping temperatures low.\"},\n",
       " {'title': 'XFX Radeon RX 6600 XT Speedster Merc 308 Review',\n",
       "  'review': \"The XFX Radeon RX 6600 XT Merc 308 is a custom-design card that can impress with its ultra-quiet operation. It's pretty much inaudible even when fully loaded, making it the quietest RX 6600 XT we have tested. The card is also of standard-slot height, so it should fit all cases easily.\"},\n",
       " {'title': 'MSI Radeon RX 6600 XT Gaming X Review',\n",
       "  'review': \"The Radeon RX 6600 XT Gaming X is MSI's dual-fan, triple-slot flagship for AMD's new Full HD gaming champ. The card comes with an overclock out of the box and runs at great temperatures, while operating very quietly.\"},\n",
       " {'title': 'Gigabyte GeForce RTX 3070 Ti Gaming OC Review',\n",
       "  'review': 'The Gigabyte GeForce RTX 3070 Ti Gaming OC is a factory-overclocked custom design sporting a new cooling solution. The triple-slot, triple-fan cooler lets air flow through the card and achieves excellent memory temperatures thanks to a new baseplate design. As soon as you activate the \"quiet\" BIOS, noise levels are good, too.'},\n",
       " {'title': 'AMD FSR FidelityFX Super Resolution Quality & Performance Review',\n",
       "  'review': \"Finally! AMD has its NVIDIA DLSS competitor ready, and it even works on NVIDIA cards. We're testing the company's new super-resolution technology in five games. The comparison images in our AMD FSR review let you dig into all the finer details, and our performance results cover multiple generations from both AMD and NVIDIA.\"},\n",
       " {'title': 'NVIDIA GeForce RTX 3070 Ti Founders Edition Review',\n",
       "  'review': \"NVIDIA's new GeForce RTX 3070 Ti is designed to bring the fight to Radeon RX 6800 non-XT. To achieve their goal, NVIDIA maxed out the GA104 GPU design and switched to faster GDDR6X memory. Unfortunately, this also resulted in an increase in power consumption and heat output.\"},\n",
       " {'title': 'MSI GeForce RTX 3070 Ti Suprim X Review',\n",
       "  'review': \"MSI's GeForce RTX 3070 Ti Suprim X is built around a massive cooler that achieves impressive temperature levels. What's even better is that the card runs much quieter than any other RTX 3070 Ti tested today: whisper-quiet, even when fully loaded.\"},\n",
       " {'title': 'Palit GeForce RTX 3070 Ti GameRock OC Review',\n",
       "  'review': 'The Palit GeForce RTX 3070 Ti GameRock OC is the fastest RTX 3070 Ti we review today. It not only comes with a large factory overclock, but is also pushed forward by a massive increase in power-limit headroom. This ensures that the card can boost higher than competing boards.'},\n",
       " {'title': 'Zotac GeForce RTX 3070 Ti AMP Holo Review',\n",
       "  'review': 'With the GeForce RTX 3070 Ti AMP Holo, Zotac sent us their top-dog RTX 3070 Ti. The card comes overclocked out of the box, using a large triple-slot, triple-fan cooler. Along the top edge, the company has placed a visually truly mesmerizing ARGB lighting element.'},\n",
       " {'title': 'NVIDIA GeForce RTX 3080 Ti Founders Edition Review',\n",
       "  'review': \"NVIDIA's GeForce RTX 3080 Ti is the green team's answer to AMD's recent Radeon launches. In our testing, this 12 GB card basically matches the much more expensive RTX 3090 24 GB in performance. The compact dual-slot Founders Edition design looks gorgeous and is of amazing build quality.\"},\n",
       " {'title': 'MSI GeForce RTX 3080 Ti Suprim X Review',\n",
       "  'review': \"MSI's GeForce RTX 3080 Ti Suprim X comes with a huge triple-slot cooler that's 33 cm long. Its large factory OC makes the card faster than even the RTX 3090. Thanks to great fan settings, the card is the quietest RTX 3080 Ti tested today, even quieter than the watercooled ASUS STRIX LC. \"},\n",
       " {'title': 'ASUS GeForce RTX 3080 Ti STRIX LC Liquid Cooled Review',\n",
       "  'review': \"The ASUS RTX 3080 Ti STRIX LC is THE overkill RTX 3080 Ti. It comes with a pre-filled watercooling unit, that provides cooling for the GPU and memory chips. Thanks to a factory overclock to 1830 MHz, this is the fastest RTX 3080 Ti we're testing today, but also the most expensive.\"},\n",
       " {'title': 'EVGA GeForce RTX 3080 Ti FTW3 Ultra Review',\n",
       "  'review': \"EVGA's GeForce RTX 3080 Ti FTW3 Ultra comes with a large factory overclock, which results in out-of-the-box performance higher than even the RTX 3090. EVGA is also including nine additional temperature sensors and a large power limit adjustment range of up to 450 W.\"},\n",
       " {'title': 'Zotac GeForce RTX 3080 Ti AMP HoloBlack Review',\n",
       "  'review': 'The Zotac GeForce RTX 3080 Ti AMP HoloBlack has the most mesmerizing RGB lighting effects. It also comes with a factory overclock to 1710 MHz and idle fan stop. What sets this card apart from other custom designs is that its energy efficiency is actually better than the NVIDIA reference design.'},\n",
       " {'title': 'Palit GeForce RTX 3080 Ti GamingPro Review',\n",
       "  'review': \"Palit's GeForce RTX 3080 Ti GamingPro is clocked at reference speeds, but doesn't come with a price increase over the NVIDIA MSRP. This makes the card an attractive option for gamers looking for the best 4K performance without overspend for fancy custom designs.\"},\n",
       " {'title': 'NVIDIA Reflex Tested with LDAT v2 - Making you a Better Gamer',\n",
       "  'review': 'NVIDIA Reflex is a collection of advanced technologies set out to drastically reduce end-to-end system latency and make you a bigger threat on the virtual battlefield. We used the latest iteration of the Latency Display Analysis Tool to thoroughly test how Reflex behaves in practice.'},\n",
       " {'title': 'ASRock Radeon RX 6900 XT OC Formula Review - This Card is Fast',\n",
       "  'review': \"The ASRock Radeon RX 6900 XT OC Formula is built using AMD's new Navi 21 XTXH chip, which runs much higher clocks than what the regular RX 6900 XT can achieve. In our testing, this is the first AMD card in a long time to beat NVIDIA's current-generation flagship, the RTX 3090.\"},\n",
       " {'title': 'ASRock Radeon RX 6700 XT Phantom Gaming D Review - The Fastest RX 6700 XT',\n",
       "  'review': \"The ASRock RX 6700 XT Phantom Gaming D is the first factory overclocked card that's actually faster than the AMD reference. All other competitors failed to deliver any performance gains. Not only out-of-the-box performance is good, overclocking is better than with any other RX 6700 XT, too.\"},\n",
       " {'title': 'NVIDIA PCI-Express Resizable BAR Performance Test - 22 Games, 3 Resolutions, RTX 3090, 3080, 3070, 3060 Ti',\n",
       "  'review': 'PCI-Express Resizable BAR, pioneered by AMD, seems to be a magic bullet for unlocking additional double-digit FPS gains. NVIDIA finally released their implementation for GeForce Ampere cards. In our PCIe BAR review, we test the feature on RTX 3090, 3080, 3070, and 3060 Ti in 22 games, at Full HD, 1440p, and 4K.'},\n",
       " {'title': 'Gigabyte Radeon RX 6700 XT Gaming OC Review',\n",
       "  'review': \"Gigabyte's Radeon RX 6700 XT Gaming OC comes with a triple-fan, triple-slot cooler that achieves temperatures and noise levels that are better than the AMD RX 6700 XT reference design. Unlike many other cards, we saw good overclocking potential, better than nearly every other RX 6700 XT we've tested so far.\"},\n",
       " {'title': 'AMD Radeon RX 6700 XT Review',\n",
       "  'review': 'The AMD Radeon RX 6700 XT introduces the new Navi 22 GPU, which is optimized to take the fight to NVIDIA in the $500 segment. The RX 6700 XT in our review beats the RTX 3060 Ti with ease and achieves performance that rivals the more expensive RTX 3070, with lower fan noise.'}]"
      ]
     },
     "execution_count": 70,
     "metadata": {},
     "output_type": "execute_result"
    }
   ],
   "source": [
    "reviews"
   ]
  },
  {
   "cell_type": "code",
   "execution_count": 6,
   "metadata": {},
   "outputs": [],
   "source": [
    "from sklearn.feature_extraction.text import TfidfVectorizer\n",
    "import time\n",
    "from sklearn import svm\n",
    "from sklearn.metrics import classification_report"
   ]
  },
  {
   "cell_type": "code",
   "execution_count": 4,
   "metadata": {},
   "outputs": [],
   "source": [
    "# train Data\n",
    "trainData = pd.read_csv(\"https://raw.githubusercontent.com/Vasistareddy/sentiment_analysis/master/data/train.csv\")\n",
    "# test Data\n",
    "testData = pd.read_csv(\"https://raw.githubusercontent.com/Vasistareddy/sentiment_analysis/master/data/test.csv\")"
   ]
  },
  {
   "cell_type": "code",
   "execution_count": 8,
   "metadata": {
    "collapsed": true
   },
   "outputs": [
    {
     "name": "stdout",
     "output_type": "stream",
     "text": [
      "Defaulting to user installation because normal site-packages is not writeable\n",
      "Collecting tensorflow_datasets\n",
      "  Downloading tensorflow_datasets-4.4.0-py3-none-any.whl (4.0 MB)\n",
      "\u001b[K     |████████████████████████████████| 4.0 MB 293 kB/s eta 0:00:01\n",
      "\u001b[?25hRequirement already satisfied: numpy in /home/linux_baby/.local/lib/python3.8/site-packages (from tensorflow_datasets) (1.19.5)\n",
      "Requirement already satisfied: requests>=2.19.0 in /home/linux_baby/.local/lib/python3.8/site-packages (from tensorflow_datasets) (2.26.0)\n",
      "Requirement already satisfied: absl-py in /home/linux_baby/.local/lib/python3.8/site-packages (from tensorflow_datasets) (0.13.0)\n",
      "Requirement already satisfied: attrs>=18.1.0 in /usr/lib/python3/dist-packages (from tensorflow_datasets) (19.3.0)\n",
      "Collecting future\n",
      "  Downloading future-0.18.2.tar.gz (829 kB)\n",
      "\u001b[K     |████████████████████████████████| 829 kB 352 kB/s eta 0:00:01\n",
      "\u001b[?25hRequirement already satisfied: six in /home/linux_baby/.local/lib/python3.8/site-packages (from tensorflow_datasets) (1.15.0)\n",
      "Collecting promise\n",
      "  Downloading promise-2.3.tar.gz (19 kB)\n",
      "Requirement already satisfied: tqdm in /home/linux_baby/.local/lib/python3.8/site-packages (from tensorflow_datasets) (4.62.2)\n",
      "Collecting importlib-resources\n",
      "  Downloading importlib_resources-5.2.2-py3-none-any.whl (27 kB)\n",
      "Requirement already satisfied: protobuf>=3.12.2 in /home/linux_baby/.local/lib/python3.8/site-packages (from tensorflow_datasets) (3.14.0)\n",
      "Requirement already satisfied: termcolor in /home/linux_baby/.local/lib/python3.8/site-packages (from tensorflow_datasets) (1.1.0)\n",
      "Collecting tensorflow-metadata\n",
      "  Downloading tensorflow_metadata-1.2.0-py3-none-any.whl (48 kB)\n",
      "\u001b[K     |████████████████████████████████| 48 kB 979 kB/s eta 0:00:01\n",
      "\u001b[?25hRequirement already satisfied: dill in /home/linux_baby/.local/lib/python3.8/site-packages (from tensorflow_datasets) (0.3.4)\n",
      "Requirement already satisfied: urllib3<1.27,>=1.21.1 in /usr/lib/python3/dist-packages (from requests>=2.19.0->tensorflow_datasets) (1.25.8)\n",
      "Requirement already satisfied: charset-normalizer~=2.0.0 in /home/linux_baby/.local/lib/python3.8/site-packages (from requests>=2.19.0->tensorflow_datasets) (2.0.3)\n",
      "Requirement already satisfied: idna<4,>=2.5 in /usr/lib/python3/dist-packages (from requests>=2.19.0->tensorflow_datasets) (2.8)\n",
      "Requirement already satisfied: certifi>=2017.4.17 in /usr/lib/python3/dist-packages (from requests>=2.19.0->tensorflow_datasets) (2019.11.28)\n",
      "Collecting zipp>=3.1.0\n",
      "  Downloading zipp-3.5.0-py3-none-any.whl (5.7 kB)\n",
      "Collecting absl-py\n",
      "  Downloading absl_py-0.12.0-py3-none-any.whl (129 kB)\n",
      "\u001b[K     |████████████████████████████████| 129 kB 1.1 MB/s eta 0:00:01\n",
      "\u001b[?25hRequirement already satisfied: googleapis-common-protos<2,>=1.52.0 in /home/linux_baby/.local/lib/python3.8/site-packages (from tensorflow-metadata->tensorflow_datasets) (1.52.0)\n",
      "Building wheels for collected packages: future, promise\n",
      "  Building wheel for future (setup.py) ... \u001b[?25ldone\n",
      "\u001b[?25h  Created wheel for future: filename=future-0.18.2-py3-none-any.whl size=491059 sha256=8b206107fe3d6929687c0ee2620152afc765ca56796d5c02d3c578dcb46863ec\n",
      "  Stored in directory: /home/linux_baby/.cache/pip/wheels/8e/70/28/3d6ccd6e315f65f245da085482a2e1c7d14b90b30f239e2cf4\n",
      "  Building wheel for promise (setup.py) ... \u001b[?25ldone\n",
      "\u001b[?25h  Created wheel for promise: filename=promise-2.3-py3-none-any.whl size=21494 sha256=da15418f976ae6c4f5d4cae9a6ae4f4fadfdff941b3364e7227b3cdd53ceb6b6\n",
      "  Stored in directory: /home/linux_baby/.cache/pip/wheels/54/aa/01/724885182f93150035a2a91bce34a12877e8067a97baaf5dc8\n",
      "Successfully built future promise\n",
      "Installing collected packages: zipp, absl-py, tensorflow-metadata, promise, importlib-resources, future, tensorflow-datasets\n",
      "  Attempting uninstall: absl-py\n",
      "    Found existing installation: absl-py 0.13.0\n",
      "    Uninstalling absl-py-0.13.0:\n",
      "      Successfully uninstalled absl-py-0.13.0\n",
      "Successfully installed absl-py-0.12.0 future-0.18.2 importlib-resources-5.2.2 promise-2.3 tensorflow-datasets-4.4.0 tensorflow-metadata-1.2.0 zipp-3.5.0\n",
      "Note: you may need to restart the kernel to use updated packages.\n"
     ]
    }
   ],
   "source": [
    "pip install tensorflow_datasets"
   ]
  },
  {
   "cell_type": "code",
   "execution_count": 9,
   "metadata": {
    "collapsed": true
   },
   "outputs": [
    {
     "name": "stderr",
     "output_type": "stream",
     "text": [
      "2021-09-07 14:35:29.722771: W tensorflow/stream_executor/platform/default/dso_loader.cc:64] Could not load dynamic library 'libcudart.so.11.0'; dlerror: libcudart.so.11.0: cannot open shared object file: No such file or directory\n",
      "2021-09-07 14:35:29.723367: I tensorflow/stream_executor/cuda/cudart_stub.cc:29] Ignore above cudart dlerror if you do not have a GPU set up on your machine.\n"
     ]
    }
   ],
   "source": [
    "import tensorflow_datasets as tfds"
   ]
  },
  {
   "cell_type": "code",
   "execution_count": null,
   "metadata": {},
   "outputs": [],
   "source": []
  },
  {
   "cell_type": "code",
   "execution_count": 6,
   "metadata": {},
   "outputs": [
    {
     "data": {
      "text/html": [
       "<div>\n",
       "<style scoped>\n",
       "    .dataframe tbody tr th:only-of-type {\n",
       "        vertical-align: middle;\n",
       "    }\n",
       "\n",
       "    .dataframe tbody tr th {\n",
       "        vertical-align: top;\n",
       "    }\n",
       "\n",
       "    .dataframe thead th {\n",
       "        text-align: right;\n",
       "    }\n",
       "</style>\n",
       "<table border=\"1\" class=\"dataframe\">\n",
       "  <thead>\n",
       "    <tr style=\"text-align: right;\">\n",
       "      <th></th>\n",
       "      <th>Content</th>\n",
       "      <th>Label</th>\n",
       "    </tr>\n",
       "  </thead>\n",
       "  <tbody>\n",
       "    <tr>\n",
       "      <th>0</th>\n",
       "      <td>every once in a while you see a film that is s...</td>\n",
       "      <td>pos</td>\n",
       "    </tr>\n",
       "    <tr>\n",
       "      <th>1</th>\n",
       "      <td>the love for family is one of the strongest dr...</td>\n",
       "      <td>pos</td>\n",
       "    </tr>\n",
       "    <tr>\n",
       "      <th>2</th>\n",
       "      <td>after the terminally bleak reservoir dogs and ...</td>\n",
       "      <td>pos</td>\n",
       "    </tr>\n",
       "    <tr>\n",
       "      <th>3</th>\n",
       "      <td>( warning to those who have not seen seven : ...</td>\n",
       "      <td>pos</td>\n",
       "    </tr>\n",
       "    <tr>\n",
       "      <th>4</th>\n",
       "      <td>having not seen , \" who framed roger rabbit \" ...</td>\n",
       "      <td>pos</td>\n",
       "    </tr>\n",
       "    <tr>\n",
       "      <th>...</th>\n",
       "      <td>...</td>\n",
       "      <td>...</td>\n",
       "    </tr>\n",
       "    <tr>\n",
       "      <th>1795</th>\n",
       "      <td>\" holy man \" boasts a sweet , gentle , comic ...</td>\n",
       "      <td>neg</td>\n",
       "    </tr>\n",
       "    <tr>\n",
       "      <th>1796</th>\n",
       "      <td>alexander dumas' the three musketeers is one o...</td>\n",
       "      <td>neg</td>\n",
       "    </tr>\n",
       "    <tr>\n",
       "      <th>1797</th>\n",
       "      <td>\" have you ever heard the one about a movie s...</td>\n",
       "      <td>neg</td>\n",
       "    </tr>\n",
       "    <tr>\n",
       "      <th>1798</th>\n",
       "      <td>this is the first film in what would become th...</td>\n",
       "      <td>neg</td>\n",
       "    </tr>\n",
       "    <tr>\n",
       "      <th>1799</th>\n",
       "      <td>first impressions : critically , a close-to-aw...</td>\n",
       "      <td>neg</td>\n",
       "    </tr>\n",
       "  </tbody>\n",
       "</table>\n",
       "<p>1800 rows × 2 columns</p>\n",
       "</div>"
      ],
      "text/plain": [
       "                                                Content Label\n",
       "0     every once in a while you see a film that is s...   pos\n",
       "1     the love for family is one of the strongest dr...   pos\n",
       "2     after the terminally bleak reservoir dogs and ...   pos\n",
       "3      ( warning to those who have not seen seven : ...   pos\n",
       "4     having not seen , \" who framed roger rabbit \" ...   pos\n",
       "...                                                 ...   ...\n",
       "1795   \" holy man \" boasts a sweet , gentle , comic ...   neg\n",
       "1796  alexander dumas' the three musketeers is one o...   neg\n",
       "1797   \" have you ever heard the one about a movie s...   neg\n",
       "1798  this is the first film in what would become th...   neg\n",
       "1799  first impressions : critically , a close-to-aw...   neg\n",
       "\n",
       "[1800 rows x 2 columns]"
      ]
     },
     "execution_count": 6,
     "metadata": {},
     "output_type": "execute_result"
    }
   ],
   "source": [
    "trainData"
   ]
  },
  {
   "cell_type": "code",
   "execution_count": 29,
   "metadata": {},
   "outputs": [],
   "source": [
    "trainAdd = pd.DataFrame({\"Content\": [\"The RX 6700 XT in our review beats the RTX 3060 Ti with ease\"], \"Label\":[\"pos\"]})\n",
    "trainData = trainData.append( trainAdd ,ignore_index = True)"
   ]
  },
  {
   "cell_type": "code",
   "execution_count": 30,
   "metadata": {},
   "outputs": [],
   "source": [
    "vectorizer = TfidfVectorizer(min_df = 5,\n",
    "                             max_df = 0.8,\n",
    "                             sublinear_tf = True,\n",
    "                             use_idf = True)\n",
    "train_vectors = vectorizer.fit_transform(trainData['Content'])\n",
    "test_vectors = vectorizer.transform(testData['Content'])"
   ]
  },
  {
   "cell_type": "code",
   "execution_count": 31,
   "metadata": {},
   "outputs": [],
   "source": [
    "classifier_linear = svm.SVC(kernel='linear')\n",
    "t0 = time.time()\n",
    "classifier_linear.fit(train_vectors, trainData['Label'])\n",
    "t1 = time.time()\n",
    "prediction_linear = classifier_linear.predict(test_vectors)\n",
    "t2 = time.time()\n",
    "time_linear_train = t1-t0\n",
    "time_linear_predict = t2-t1"
   ]
  },
  {
   "cell_type": "code",
   "execution_count": 32,
   "metadata": {},
   "outputs": [
    {
     "name": "stdout",
     "output_type": "stream",
     "text": [
      "Training time: 7.702950s; Prediction time: 0.750058s\n",
      "positive:  {'precision': 0.9183673469387755, 'recall': 0.9, 'f1-score': 0.9090909090909091, 'support': 100}\n",
      "negative:  {'precision': 0.9019607843137255, 'recall': 0.92, 'f1-score': 0.9108910891089109, 'support': 100}\n"
     ]
    }
   ],
   "source": [
    "print(\"Training time: %fs; Prediction time: %fs\" % (time_linear_train, time_linear_predict))\n",
    "report = classification_report(testData['Label'], prediction_linear, output_dict=True)\n",
    "print('positive: ', report['pos'])\n",
    "print('negative: ', report['neg'])"
   ]
  },
  {
   "cell_type": "code",
   "execution_count": 43,
   "metadata": {},
   "outputs": [
    {
     "name": "stdout",
     "output_type": "stream",
     "text": [
      "['neg']\n"
     ]
    }
   ],
   "source": [
    "review = \"In our testing, this is the first AMD card in a long time to beat NVIDIA's current-generation flagship, the RTX 3090\"\n",
    "review_vector = vectorizer.transform([review]) # vectorizing\n",
    "print(classifier_linear.predict(review_vector))"
   ]
  },
  {
   "cell_type": "code",
   "execution_count": null,
   "metadata": {},
   "outputs": [],
   "source": []
  }
 ],
 "metadata": {
  "interpreter": {
   "hash": "235925901c488dc892d2f89dd3f7c0ff4d9c393ea687e852d9b2cae4ba30a691"
  },
  "kernelspec": {
   "display_name": "Python 3 (ipykernel)",
   "language": "python",
   "name": "python3"
  },
  "language_info": {
   "codemirror_mode": {
    "name": "ipython",
    "version": 3
   },
   "file_extension": ".py",
   "mimetype": "text/x-python",
   "name": "python",
   "nbconvert_exporter": "python",
   "pygments_lexer": "ipython3",
   "version": "3.8.10"
  }
 },
 "nbformat": 4,
 "nbformat_minor": 2
}
