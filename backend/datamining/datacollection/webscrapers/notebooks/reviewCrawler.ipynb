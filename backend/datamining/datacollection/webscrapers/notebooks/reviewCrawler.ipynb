{
 "cells": [
  {
   "cell_type": "code",
   "execution_count": 107,
   "metadata": {},
   "outputs": [],
   "source": [
    "import requests\n",
    "from bs4 import BeautifulSoup\n",
    "import pandas as pd\n",
    "import numpy as np\n"
   ]
  },
  {
   "cell_type": "code",
   "execution_count": 173,
   "metadata": {},
   "outputs": [],
   "source": [
    "def getreview(product):\n",
    "    \n",
    "    review = {}\n",
    "    \n",
    "    URL = \"https://www.techradar.com/reviews/\"+product\n",
    "    page = requests.get(URL)\n",
    "    soup = BeautifulSoup(page.content, \"html.parser\")\n",
    "    \n",
    "    results = soup.find(\"article\")\n",
    "    \n",
    "    title = results.find_all(class_=\"review-title-medium\")\n",
    "    \n",
    "    results = results.find(class_=\"pro-con\")\n",
    "    \n",
    "    if results != None:\n",
    "    \n",
    "        results = results.find_all(\"li\")\n",
    "\n",
    "        title = {\"title\": tit.text.strip() for tit in title}\n",
    "\n",
    "        reviews = {\"reviews\":[result.text.strip() for result in results if result.text.strip() != '']}\n",
    "\n",
    "        review = dict(title, **reviews)\n",
    "\n",
    "        URL = \"https://www.trustedreviews.com/reviews/\"+product\n",
    "        page = requests.get(URL)\n",
    "        soup = BeautifulSoup(page.content, \"html.parser\")\n",
    "\n",
    "        results = soup.find(\"article\")\n",
    "\n",
    "        results = results.find(class_=\"pros-cons-block\")\n",
    "\n",
    "        results = results.find_all(\"li\")\n",
    "\n",
    "        results = [result.text.strip() for result in results if result.text.strip() != '']\n",
    "\n",
    "        review['reviews'] =  np.append( review['reviews'] , results).tolist()\n",
    "    \n",
    "    return review    "
   ]
  },
  {
   "cell_type": "code",
   "execution_count": 113,
   "metadata": {
    "scrolled": false
   },
   "outputs": [
    {
     "data": {
      "text/plain": [
       "{'title': 'Intel Core i5-10600K review',\n",
       " 'reviews': ['Excellent multi-core performance',\n",
       "  'Improved single-core performance',\n",
       "  'Affordable',\n",
       "  'Good thermal performance',\n",
       "  'No PCIe 4.0',\n",
       "  'Higher power consumption',\n",
       "  'Impressive single-threaded performance',\n",
       "  'Consistently fast in games',\n",
       "  'Now includes Hyper-Threading',\n",
       "  'Chipset has upgraded networking',\n",
       "  'AMD remains faster in multi-threaded workloads',\n",
       "  \"More expensive than AMD's rivals\",\n",
       "  'Relatively expensive ecosystem',\n",
       "  'No native PCIe 4.0 support']}"
      ]
     },
     "execution_count": 113,
     "metadata": {},
     "output_type": "execute_result"
    }
   ],
   "source": [
    "getreview(\"intel-core-i5-10600k\")"
   ]
  },
  {
   "cell_type": "code",
   "execution_count": 166,
   "metadata": {},
   "outputs": [],
   "source": [
    "def getproduct(url):\n",
    "    temp = url.split(\"/\")\n",
    "    return temp[len(temp) - 1]"
   ]
  },
  {
   "cell_type": "code",
   "execution_count": null,
   "metadata": {},
   "outputs": [],
   "source": []
  },
  {
   "cell_type": "code",
   "execution_count": 167,
   "metadata": {
    "scrolled": false
   },
   "outputs": [],
   "source": [
    "\n",
    "def title():\n",
    "    res = []\n",
    "    for i in range(9):\n",
    "        page = i + 1\n",
    "        URL = \"https://www.trustedreviews.com/reviews/pc-components/page/\"+str(page)\n",
    "        page = requests.get(URL)\n",
    "        soup = BeautifulSoup(page.content, \"html.parser\")\n",
    "\n",
    "        results = soup.find(class_=\"listing-items\")\n",
    "        results = results.find_all(class_=\"entry\")\n",
    "        results = [getproduct(result['href'].strip()) for result in results if result.text.strip() != '']        \n",
    "        res = np.append( res, results).tolist()\n",
    "        \n",
    "    return res"
   ]
  },
  {
   "cell_type": "code",
   "execution_count": 168,
   "metadata": {
    "scrolled": true
   },
   "outputs": [],
   "source": [
    "rev = title()"
   ]
  },
  {
   "cell_type": "code",
   "execution_count": null,
   "metadata": {},
   "outputs": [],
   "source": []
  },
  {
   "cell_type": "code",
   "execution_count": null,
   "metadata": {
    "scrolled": true
   },
   "outputs": [],
   "source": []
  },
  {
   "cell_type": "code",
   "execution_count": 176,
   "metadata": {},
   "outputs": [],
   "source": [
    "reviews = []\n",
    "for r in rev:\n",
    "    revi = getreview(r)\n",
    "    \n",
    "    if revi != {}:\n",
    "        reviews.append(revi)\n",
    "    "
   ]
  },
  {
   "cell_type": "code",
   "execution_count": 177,
   "metadata": {},
   "outputs": [
    {
     "data": {
      "text/plain": [
       "[{'title': 'AMD Radeon RX 6600 XT review',\n",
       "  'reviews': ['Great 1080p performance',\n",
       "   'Low power consumption',\n",
       "   'Excellent thermal performance',\n",
       "   'Too expensive',\n",
       "   'Not far enough ahead of RTX 3060',\n",
       "   'Strong 1080p performance',\n",
       "   'Low power consumption',\n",
       "   'Wealth of features for Ryzen builds',\n",
       "   'Struggles with ray tracing without FSR activated',\n",
       "   'Not as powerful as Nvidia RTX 3060 Ti']},\n",
       " {'title': 'AMD Ryzen 7 5800X review',\n",
       "  'reviews': ['Excellent single-core performance',\n",
       "   'Strong for gaming',\n",
       "   'Low power',\n",
       "   'Major IPC improvement',\n",
       "   'Price jump from Ryzen 3000',\n",
       "   'No included cooler',\n",
       "   'Fantastic all-round performance',\n",
       "   'Better multi-threaded performance than Intel',\n",
       "   'Low power consumption',\n",
       "   'Supports PCIe 4.0',\n",
       "   'Fairly expensive',\n",
       "   'Intel still has the edge for gaming',\n",
       "   'No bundled cooler']},\n",
       " {'title': 'Intel Core i5-11600K review',\n",
       "  'reviews': ['Great gaming performance',\n",
       "   'Affordable',\n",
       "   'Big generational jump',\n",
       "   'PCIe 4.0',\n",
       "   'Gets really hot',\n",
       "   'Consumes a lot of power',\n",
       "   'Excellent gaming performance',\n",
       "   'Support for PCIe 4.0',\n",
       "   'Good value for money',\n",
       "   'Runs at comparatively low temperatures',\n",
       "   'Poor multi-threaded performance',\n",
       "   'Marginal performance gains from 10th generation']},\n",
       " {'title': 'Intel Core i9-11900K review',\n",
       "  'reviews': ['Great gaming performance',\n",
       "   'PCIe 4.0 support',\n",
       "   'Lackluster multi-threaded performance',\n",
       "   'Expensive',\n",
       "   'Gets hot',\n",
       "   'High power consumption',\n",
       "   'The absolute best CPU gaming performance',\n",
       "   'Support for PCIe 4.0',\n",
       "   'Very high price',\n",
       "   'Only marginally more powerful than cheaper alternatives',\n",
       "   \"Multi-threaded performance can't compete with AMD\"]},\n",
       " {'title': 'AMD Radeon RX 6700 XT review',\n",
       "  'reviews': ['Excellent 1440p performance',\n",
       "   'Ray tracing',\n",
       "   'Lightweight card with no sag',\n",
       "   'A bit too expensive',\n",
       "   'Ray tracing performance is weak',\n",
       "   'No FidelityFX Super Resolution',\n",
       "   'Solid 1440p performance',\n",
       "   'Small twin-fan design makes it suitable for smaller builds',\n",
       "   'Power-efficient, with reasonable headroom for overclocking',\n",
       "   'Ray tracing performance limited to 1080p resolutions',\n",
       "   'Lack of DLSS puts it behind Nvidia rivals for ray tracing',\n",
       "   'Review Price: £419.99',\n",
       "   'Core clock speed: 2424MHz',\n",
       "   'Boost clock speed: 2581MHz',\n",
       "   'VRAM: 12GB GDDR6',\n",
       "   'RDNA 2 compute units: 40',\n",
       "   'Infinity Cache: 96MB',\n",
       "   'TDP: 230W']},\n",
       " {'title': 'AMD Radeon RX 6800 review',\n",
       "  'reviews': ['Excellent performance',\n",
       "   'Finally, AMD ray tracing',\n",
       "   'Low power consumption',\n",
       "   'Effective cooler',\n",
       "   'Divisive design',\n",
       "   'Ray tracing performance behind competition',\n",
       "   'More expensive than RTX 3070',\n",
       "   'Solid 4K performance',\n",
       "   'First AMD card to support Ray Tracing',\n",
       "   'Good value',\n",
       "   'Ray Tracing performance lags behind Nvidia',\n",
       "   'No DLSS equivalent at launch']},\n",
       " {'title': 'Nvidia GeForce RTX 3080 review',\n",
       "  'reviews': ['Excellent 4K gaming performance',\n",
       "   'Low temperatures',\n",
       "   'Plenty of useful non-gaming features',\n",
       "   \"Price didn't increase over RTX 2080\",\n",
       "   'Still kind of expensive',\n",
       "   'Dongle is a little annoying',\n",
       "   'No USB-C in Founders Edition',\n",
       "   'Excellent 4K performance',\n",
       "   'Ray tracing is awesome',\n",
       "   'Far cheaper than RTX 2080 Ti',\n",
       "   'HDMI 2.1 support',\n",
       "   'Very power hungry',\n",
       "   'Not massively overclockable',\n",
       "   'Review Price: £649',\n",
       "   'Originally reviewed: Sep 16, 2020',\n",
       "   '8704 CUDA cores',\n",
       "   '1.71GHz boost clock speed',\n",
       "   '10GB GDDR6X',\n",
       "   '320w TDP',\n",
       "   'Ray tracing and DLSS ready',\n",
       "   'HDMI 2.1, 3x DisplayPort 1.4a',\n",
       "   '2x PCIe 8-pin (adapter to 1x 12-pin included)']},\n",
       " {'title': 'Intel Core i9-10900K review',\n",
       "  'reviews': ['Good single-core performance',\n",
       "   'Good thermal performance',\n",
       "   'High power consumption',\n",
       "   'No PCIe 4.0',\n",
       "   'Falls behind in multi-threaded workloads',\n",
       "   'Needs a Z490 motherboard to work',\n",
       "   'Impressive single-threaded performance',\n",
       "   'Decent gaming pace',\n",
       "   'Good performance in day-to-day work',\n",
       "   'Chipset with upgraded networking',\n",
       "   'Unable to beat rivals in multi-threaded tests',\n",
       "   'Pricier than the competition',\n",
       "   'Expensive ecosystem',\n",
       "   'No native PCI-E 4.0 support']},\n",
       " {'title': 'Intel Core i5-10600K review',\n",
       "  'reviews': ['Excellent multi-core performance',\n",
       "   'Improved single-core performance',\n",
       "   'Affordable',\n",
       "   'Good thermal performance',\n",
       "   'No PCIe 4.0',\n",
       "   'Higher power consumption',\n",
       "   'Impressive single-threaded performance',\n",
       "   'Consistently fast in games',\n",
       "   'Now includes Hyper-Threading',\n",
       "   'Chipset has upgraded networking',\n",
       "   'AMD remains faster in multi-threaded workloads',\n",
       "   \"More expensive than AMD's rivals\",\n",
       "   'Relatively expensive ecosystem',\n",
       "   'No native PCIe 4.0 support']},\n",
       " {'title': 'Intel Core i9-9900K review',\n",
       "  'reviews': ['Dominating hyper-threading performance',\n",
       "   'Runs significantly cooler',\n",
       "   'Tight energy consumption',\n",
       "   'Expensive',\n",
       "   'Little to no improvement for gaming',\n",
       "   'Ultra-speedy for video rendering and editing',\n",
       "   'Best clock speeds of all the consumer CPUs',\n",
       "   'Price cut sees improved value',\n",
       "   'Not a huge gaming upgrade from previous generation',\n",
       "   'Requires powerful cooler to prevent overheating',\n",
       "   'Not much room for overclocking']},\n",
       " {'title': 'AMD Ryzen 9 3900X review',\n",
       "  'reviews': ['Incredible performance',\n",
       "   'PCIe 4.0',\n",
       "   'Beats Intel at same price',\n",
       "   'Included heatsink may not be enough',\n",
       "   'Single core performance still behind',\n",
       "   'Top-class multi-core performance for creative tasks',\n",
       "   'PCIe Gen 4 support for faster SSD speeds',\n",
       "   'Solid gaming performance',\n",
       "   'Intel still has the edge for gaming']},\n",
       " {'title': 'AMD Radeon RX 5700 XT review',\n",
       "  'reviews': ['Excellent 1440p gaming performance',\n",
       "   'Plenty of forward-looking features',\n",
       "   'Affordable',\n",
       "   'No ray tracing',\n",
       "   'Blower-style cooler',\n",
       "   'Fantastic value for gaming in Quad HD',\n",
       "   'Radeon features feel useful and polished',\n",
       "   'Cool design',\n",
       "   'No ray tracing',\n",
       "   'Runs hotter than Nvidia equivalent cards',\n",
       "   'Poor overclocking potential']},\n",
       " {'title': 'AMD Radeon RX 5700 review',\n",
       "  'reviews': ['Excellent performance',\n",
       "   'Plenty of software features',\n",
       "   'Affordable',\n",
       "   'Blower-style cooler',\n",
       "   'No ray tracing',\n",
       "   'The absolute best value card for Quad HD gaming',\n",
       "   'Radeon features feel polished and offer subtle improvements',\n",
       "   'Sleek and simple design',\n",
       "   'Lacks ray tracing',\n",
       "   'May struggle to hit 60fps in Quad HD with future AAA video games']},\n",
       " {'title': 'AMD Ryzen 7 2700X review',\n",
       "  'reviews': ['Dramatically improved performance',\n",
       "   'Reasonably priced',\n",
       "   'Useful included CPU cooler and software',\n",
       "   'Highest-energy draw on load',\n",
       "   'Faster and more frugal than before',\n",
       "   'Excellent all round performance',\n",
       "   'Improved overclocking',\n",
       "   'Still slower clock speeds than Intel',\n",
       "   'Slower than Intel for gaming',\n",
       "   'Higher TDP than 1800X']},\n",
       " {'title': 'Samsung 860 Evo review',\n",
       "  'reviews': ['Small, but noticeable speed increases',\n",
       "   'Quadrupled endurance',\n",
       "   'SATA 3 protocol limits maximum potential',\n",
       "   'Huge choice of capacity',\n",
       "   'Well priced',\n",
       "   'Good all-round performance',\n",
       "   'Excellent endurance',\n",
       "   'Not that much faster than previous drive']},\n",
       " {'title': 'AMD Radeon RX 580 review',\n",
       "  'reviews': ['Solid 1080p performance',\n",
       "   'Impressive price point',\n",
       "   'Sapphire’s DD cooler stunning',\n",
       "   '3GB GTX 1060, still better value',\n",
       "   'Not Vega',\n",
       "   'Brilliant Full HD performance',\n",
       "   'Decent 1440p performance',\n",
       "   'Cheapest cards are great value',\n",
       "   'Power hog',\n",
       "   'No compact cards']},\n",
       " {'reviews': ['Titan X-equivalent gaming performance',\n",
       "   'Pushes the limits of Pascal',\n",
       "   'Improved cooling',\n",
       "   'A pricey investment for most',\n",
       "   'Epic 4K performance',\n",
       "   'Very overclockable',\n",
       "   'Fastest consumer card you can buy',\n",
       "   'Power hog',\n",
       "   'Price-cut GTX 1080 more attractive']},\n",
       " {'title': 'Intel Core i7-8700K review',\n",
       "  'reviews': ['Hyper-threading overtakes Ryzen',\n",
       "   'Low-impact overclocking',\n",
       "   'Overclocking only on K models',\n",
       "   'Requires new motherboard',\n",
       "   'Huge six-core power',\n",
       "   'Highly overclockable',\n",
       "   'Stable and easy-to-use platform',\n",
       "   'Mighty single-core speeds and gaming performance',\n",
       "   'Cheaper than Ryzen 7 1800X',\n",
       "   \"Doesn't compete with Ryzen 1700 or 1700X on price\",\n",
       "   'Cheaper 8-core Ryzens offer similar multi-core performance',\n",
       "   'Not compatible with older motherboards']},\n",
       " {'title': 'AMD Ryzen 7 1800X review',\n",
       "  'reviews': ['Stunning multi-core performance',\n",
       "   'Competitive single core performance',\n",
       "   'Sturdy Chipset',\n",
       "   'Solid power draw',\n",
       "   'Insane Price',\n",
       "   'Overclocking is touch and go',\n",
       "   'Temperatures are ‘unique’',\n",
       "   'Blistering multi-threaded performance',\n",
       "   'Exceptionally good value',\n",
       "   'AM4 platform allows for easy upgrades',\n",
       "   'Unlocked for easy overclocking',\n",
       "   'Single-core performance slower than 7700K',\n",
       "   'Too pricey for most']},\n",
       " {'reviews': ['Titan X-equivalent gaming performance',\n",
       "   'Pushes the limits of Pascal',\n",
       "   'Improved cooling',\n",
       "   'A pricey investment for most',\n",
       "   'Fantastic performance',\n",
       "   'Great design',\n",
       "   'Highly overclockable',\n",
       "   \"Doesn't hit 60fps in our 4K benchmarks\",\n",
       "   'More expensive than previous generations']}]"
      ]
     },
     "execution_count": 177,
     "metadata": {},
     "output_type": "execute_result"
    }
   ],
   "source": [
    "reviews"
   ]
  },
  {
   "cell_type": "code",
   "execution_count": null,
   "metadata": {},
   "outputs": [],
   "source": []
  },
  {
   "cell_type": "code",
   "execution_count": null,
   "metadata": {},
   "outputs": [],
   "source": []
  },
  {
   "cell_type": "code",
   "execution_count": null,
   "metadata": {},
   "outputs": [],
   "source": []
  },
  {
   "cell_type": "code",
   "execution_count": 6,
   "metadata": {},
   "outputs": [],
   "source": [
    "from sklearn.feature_extraction.text import TfidfVectorizer\n",
    "import time\n",
    "from sklearn import svm\n",
    "from sklearn.metrics import classification_report"
   ]
  },
  {
   "cell_type": "code",
   "execution_count": 3,
   "metadata": {},
   "outputs": [],
   "source": [
    "# train Data\n",
    "trainData = pd.read_csv(\"https://raw.githubusercontent.com/Vasistareddy/sentiment_analysis/master/data/train.csv\")\n",
    "# test Data\n",
    "testData = pd.read_csv(\"https://raw.githubusercontent.com/Vasistareddy/sentiment_analysis/master/data/test.csv\")"
   ]
  },
  {
   "cell_type": "code",
   "execution_count": null,
   "metadata": {},
   "outputs": [],
   "source": []
  },
  {
   "cell_type": "code",
   "execution_count": 29,
   "metadata": {},
   "outputs": [],
   "source": [
    "trainAdd = pd.DataFrame({\"Content\": [\"The RX 6700 XT in our review beats the RTX 3060 Ti with ease\"], \"Label\":[\"pos\"]})\n",
    "trainData = trainData.append( trainAdd ,ignore_index = True)"
   ]
  },
  {
   "cell_type": "code",
   "execution_count": 30,
   "metadata": {},
   "outputs": [],
   "source": [
    "vectorizer = TfidfVectorizer(min_df = 5,\n",
    "                             max_df = 0.8,\n",
    "                             sublinear_tf = True,\n",
    "                             use_idf = True)\n",
    "train_vectors = vectorizer.fit_transform(trainData['Content'])\n",
    "test_vectors = vectorizer.transform(testData['Content'])"
   ]
  },
  {
   "cell_type": "code",
   "execution_count": 31,
   "metadata": {},
   "outputs": [],
   "source": [
    "classifier_linear = svm.SVC(kernel='linear')\n",
    "t0 = time.time()\n",
    "classifier_linear.fit(train_vectors, trainData['Label'])\n",
    "t1 = time.time()\n",
    "prediction_linear = classifier_linear.predict(test_vectors)\n",
    "t2 = time.time()\n",
    "time_linear_train = t1-t0\n",
    "time_linear_predict = t2-t1"
   ]
  },
  {
   "cell_type": "code",
   "execution_count": 32,
   "metadata": {},
   "outputs": [
    {
     "name": "stdout",
     "output_type": "stream",
     "text": [
      "Training time: 7.702950s; Prediction time: 0.750058s\n",
      "positive:  {'precision': 0.9183673469387755, 'recall': 0.9, 'f1-score': 0.9090909090909091, 'support': 100}\n",
      "negative:  {'precision': 0.9019607843137255, 'recall': 0.92, 'f1-score': 0.9108910891089109, 'support': 100}\n"
     ]
    }
   ],
   "source": [
    "print(\"Training time: %fs; Prediction time: %fs\" % (time_linear_train, time_linear_predict))\n",
    "report = classification_report(testData['Label'], prediction_linear, output_dict=True)\n",
    "print('positive: ', report['pos'])\n",
    "print('negative: ', report['neg'])"
   ]
  },
  {
   "cell_type": "code",
   "execution_count": 43,
   "metadata": {},
   "outputs": [
    {
     "name": "stdout",
     "output_type": "stream",
     "text": [
      "['neg']\n"
     ]
    }
   ],
   "source": [
    "review = \"In our testing, this is the first AMD card in a long time to beat NVIDIA's current-generation flagship, the RTX 3090\"\n",
    "review_vector = vectorizer.transform([review]) # vectorizing\n",
    "print(classifier_linear.predict(review_vector))"
   ]
  },
  {
   "cell_type": "code",
   "execution_count": null,
   "metadata": {},
   "outputs": [],
   "source": []
  }
 ],
 "metadata": {
  "interpreter": {
   "hash": "235925901c488dc892d2f89dd3f7c0ff4d9c393ea687e852d9b2cae4ba30a691"
  },
  "kernelspec": {
   "display_name": "Python 3 (ipykernel)",
   "language": "python",
   "name": "python3"
  },
  "language_info": {
   "codemirror_mode": {
    "name": "ipython",
    "version": 3
   },
   "file_extension": ".py",
   "mimetype": "text/x-python",
   "name": "python",
   "nbconvert_exporter": "python",
   "pygments_lexer": "ipython3",
   "version": "3.8.10"
  }
 },
 "nbformat": 4,
 "nbformat_minor": 2
}
