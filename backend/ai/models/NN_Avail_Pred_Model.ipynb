{
 "cells": [
  {
   "cell_type": "code",
   "execution_count": 1,
   "source": [
    "import numpy as np\n",
    "import pandas as pd\n",
    "import matplotlib.pyplot as plt\n",
    "import tensorflow as tf\n",
    "import datetime\n",
    "import math\n",
    "import random\n",
    "from sklearn.model_selection import train_test_split\n",
    "from sklearn.preprocessing import LabelEncoder\n",
    "from sklearn.preprocessing import OneHotEncoder\n",
    "from tensorflow import keras\n",
    "from tensorflow.keras import layers\n",
    "from tensorflow.keras.layers.experimental import preprocessing"
   ],
   "outputs": [],
   "metadata": {}
  },
  {
   "cell_type": "markdown",
   "source": [
    "LOADING DATA"
   ],
   "metadata": {}
  },
  {
   "cell_type": "code",
   "execution_count": 3,
   "source": [
    "df_cpu = pd.read_csv('../model_data/cpuProductData.csv')\n",
    "df_gpu = pd.read_csv('../model_data/gpuProductData.csv')"
   ],
   "outputs": [],
   "metadata": {}
  },
  {
   "cell_type": "markdown",
   "source": [
    "CLEANING DATA"
   ],
   "metadata": {}
  },
  {
   "cell_type": "code",
   "execution_count": 4,
   "source": [
    "def clean_data(data, modelsDir):\n",
    "\n",
    "    def split_date(date):\n",
    "        year = int(date[:4])\n",
    "        month = int(date[4:6])\n",
    "        day_month = int(date[6:8])\n",
    "        week = datetime.date(year, month, day_month).isocalendar()[1]\n",
    "        day_week = datetime.date(year, month, day_month).isocalendar()[2]\n",
    "        day_year = day_week * week\n",
    "        quarter = math.ceil(float(month)/3)\n",
    "        return year, month, quarter, week, day_year, day_month, day_week\n",
    "\n",
    "    # Loading file with models\n",
    "    models = pd.read_csv(modelsDir)\n",
    "\n",
    "    # Renaming product model for consistency\n",
    "    data['model'] = data['model'].str.upper()\n",
    "    data['brand'] = data['brand'].str.upper()\n",
    "    data['availability'] = data['availability'].str.upper()\n",
    "    data['model_name'] = ''\n",
    "\n",
    "    for dt in data.itertuples():\n",
    "        for model in models.itertuples():\n",
    "            if dt.model.find(str(model.model)) != -1:\n",
    "                data.at[dt.Index, 'model'] = str(model.model)\n",
    "                continue\n",
    "\n",
    "    # Removing models which dont havent been renamed\n",
    "    data = data.replace('', np.nan)\n",
    "    data = data.dropna()\n",
    "\n",
    "    # Splitting data into diff components\n",
    "    \n",
    "    for dt in data.itertuples():\n",
    "        year, month, quarter, week, day_year, day_month, day_week = split_date(str(dt.date))\n",
    "        data.at[dt.Index, 'year'] = year\n",
    "        data.at[dt.Index, 'month'] = month\n",
    "        data.at[dt.Index, 'quarter'] = quarter\n",
    "        data.at[dt.Index, 'week'] = week\n",
    "        data.at[dt.Index, 'day_year'] = day_year\n",
    "        data.at[dt.Index, 'day_month'] = day_month\n",
    "        data.at[dt.Index, 'day_week'] = day_week\n",
    "\n",
    "    label_encoder = LabelEncoder()\n",
    "    data['brand'] = label_encoder.fit_transform(data['brand'])\n",
    "    data['model_name'] = label_encoder.fit_transform(data['model_name'])\n",
    "    enc_brand = pd.get_dummies(data.brand, prefix='b')\n",
    "    data = pd.concat([data, enc_brand], axis=1)\n",
    "    enc_model = pd.get_dummies(data.model_name, prefix='m')\n",
    "    data = pd.concat([data, enc_model], axis=1)\n",
    "\n",
    "    avail = set(data['availability'].str.upper())\n",
    "    print(avail)\n",
    "    avail = pd.DataFrame(avail)\n",
    "    avail = avail.rename(columns={0: 'availability'})\n",
    "\n",
    "    for av in avail.itertuples():\n",
    "        data.loc[data['availability'].str.upper() == av.availability, 'availability'] = av.Index\n",
    "        \n",
    "    return data\n"
   ],
   "outputs": [],
   "metadata": {}
  }
 ],
 "metadata": {
  "orig_nbformat": 4,
  "language_info": {
   "name": "python",
   "version": "3.8.8",
   "mimetype": "text/x-python",
   "codemirror_mode": {
    "name": "ipython",
    "version": 3
   },
   "pygments_lexer": "ipython3",
   "nbconvert_exporter": "python",
   "file_extension": ".py"
  },
  "kernelspec": {
   "name": "python3",
   "display_name": "Python 3.8.8 64-bit ('base': conda)"
  },
  "interpreter": {
   "hash": "235925901c488dc892d2f89dd3f7c0ff4d9c393ea687e852d9b2cae4ba30a691"
  }
 },
 "nbformat": 4,
 "nbformat_minor": 2
}