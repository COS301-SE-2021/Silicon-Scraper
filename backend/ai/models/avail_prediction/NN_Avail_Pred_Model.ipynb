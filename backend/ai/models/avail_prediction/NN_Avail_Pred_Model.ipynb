{
 "cells": [
  {
   "cell_type": "code",
   "execution_count": 4,
   "source": [
    "import numpy as np\n",
    "import pandas as pd\n",
    "import matplotlib.pyplot as plt\n",
    "import tensorflow as tf\n",
    "import datetime\n",
    "import math\n",
    "import random\n",
    "from sklearn.model_selection import train_test_split\n",
    "from sklearn.preprocessing import LabelEncoder\n",
    "from sklearn.preprocessing import OneHotEncoder\n",
    "from sklearn.preprocessing import MinMaxScaler\n",
    "from tensorflow import keras\n",
    "from tensorflow.keras import layers\n",
    "from tensorflow.keras.layers.experimental import preprocessing"
   ],
   "outputs": [],
   "metadata": {}
  },
  {
   "cell_type": "markdown",
   "source": [
    "LOADING DATA"
   ],
   "metadata": {}
  },
  {
   "cell_type": "code",
   "execution_count": 5,
   "source": [
    "df_cpu = pd.read_csv('../../model_data/cpuProductData.csv')\n",
    "df_gpu = pd.read_csv('../../model_data/gpuProductData.csv')"
   ],
   "outputs": [],
   "metadata": {}
  },
  {
   "cell_type": "markdown",
   "source": [
    "FUNCTIONS TO BE UTILISED THROUGHOUT"
   ],
   "metadata": {}
  },
  {
   "cell_type": "code",
   "execution_count": 6,
   "source": [
    "def clean_data(data, modelsDir):\n",
    "\n",
    "    # Loading file with models\n",
    "    models = pd.read_csv(modelsDir)\n",
    "    models['model'] = models['model'].str.upper()\n",
    "\n",
    "    # Renaming product model for consistency\n",
    "    data['model'] = data['model'].str.upper()\n",
    "    data['brand'] = data['brand'].str.upper()\n",
    "    data['type'] = data['type'].str.upper()\n",
    "    data['availability'] = data['availability'].str.upper()\n",
    "\n",
    "    for dt in data.itertuples():\n",
    "        for model in models.itertuples():\n",
    "            if dt.model.find(str(model.model)) != -1:\n",
    "                data.at[dt.Index, 'model'] = model.Index\n",
    "                continue\n",
    "\n",
    "    # Removing models which dont havent been renamed\n",
    "    data = data.replace('', np.nan)\n",
    "    data = data.dropna()\n"
   ],
   "outputs": [],
   "metadata": {}
  },
  {
   "cell_type": "code",
   "execution_count": 7,
   "source": [
    "def encode_data(data):\n",
    "    def split_date(date):\n",
    "        year = int(date[:4])\n",
    "        month = int(date[4:6])\n",
    "        day_month = int(date[6:8])\n",
    "        week = datetime.date(year, month, day_month).isocalendar()[1]\n",
    "        day_week = datetime.date(year, month, day_month).isocalendar()[2]\n",
    "        day_year = day_week * week\n",
    "        quarter = math.ceil(float(month)/3)\n",
    "        return year, month, quarter, week, day_year, day_month, day_week\n",
    "    \n",
    "    # Splitting data into diff components\n",
    "    \n",
    "    for dt in data.itertuples():\n",
    "        year, month, quarter, week, day_year, day_month, day_week = split_date(str(dt.date))\n",
    "        data.at[dt.Index, 'year'] = year\n",
    "        data.at[dt.Index, 'month'] = month\n",
    "        data.at[dt.Index, 'quarter'] = quarter\n",
    "        data.at[dt.Index, 'week'] = week\n",
    "        data.at[dt.Index, 'day_year'] = day_year\n",
    "        data.at[dt.Index, 'day_month'] = day_month\n",
    "        data.at[dt.Index, 'day_week'] = day_week    \n",
    "\n",
    "    del data['date']\n",
    "\n",
    "    label_encoder = LabelEncoder()\n",
    "    data['brand'] = label_encoder.fit_transform(data['brand'])\n",
    "    data['model'] = label_encoder.fit_transform(data['model'])\n",
    "    data['type'] = label_encoder.fit_transform(data['type'])\n",
    "\n",
    "    enc_brand = pd.get_dummies(data.brand, prefix='brand')\n",
    "    del data['brand']\n",
    "    data = pd.concat([data, enc_brand], axis=1)\n",
    "\n",
    "    enc_model = pd.get_dummies(data.model, prefix='model')\n",
    "    del data['model']\n",
    "    data = pd.concat([data, enc_model], axis=1)\n",
    "\n",
    "    enc_type = pd.get_dummies(data.type, prefix='type')\n",
    "    del data['type']\n",
    "    data = pd.concat([data, enc_type], axis=1)\n",
    "\n",
    "    avail = set(data['availability'].str.upper())\n",
    "    avail = pd.DataFrame(avail)\n",
    "    avail = avail.rename(columns={0: 'availability'})\n",
    "\n",
    "    for av in avail.itertuples():\n",
    "        data.loc[data['availability'].str.upper() == av.availability, 'availability'] = av.Index\n",
    "    \n",
    "    return data"
   ],
   "outputs": [],
   "metadata": {}
  },
  {
   "cell_type": "code",
   "execution_count": 8,
   "source": [
    "def get_sets(data):\n",
    "\n",
    "    # shuffling data\n",
    "\n",
    "    index = [i for i in range(data.shape[0])]\n",
    "    random.shuffle(index)\n",
    "    data = data.set_index([index]).sort_index()\n",
    "    \n",
    "    # split between train and test\n",
    "    \n",
    "    Y = data[['availability']]\n",
    "    Y = np.array(Y).astype('float32')\n",
    "    del data['availability']\n",
    "    del data['model']\n",
    "    X = np.array(data).astype('float32')\n",
    "    x_train, x_test, y_train, y_test = train_test_split(X,Y)\n",
    "\n",
    "    return x_train, x_test, y_train, y_test"
   ],
   "outputs": [],
   "metadata": {}
  },
  {
   "cell_type": "markdown",
   "source": [
    "MODEL IMPLEMENTATION"
   ],
   "metadata": {}
  },
  {
   "cell_type": "code",
   "execution_count": 9,
   "source": [
    "clean_data(df_cpu, '../../model_data/cpuModels.csv')\n",
    "clean_data(df_gpu, '../../model_data/gpuModels.csv')\n",
    "df_prods = df_cpu.append(df_gpu, ignore_index=True)"
   ],
   "outputs": [],
   "metadata": {}
  },
  {
   "cell_type": "code",
   "execution_count": 10,
   "source": [
    "df_prods = encode_data(df_prods)"
   ],
   "outputs": [],
   "metadata": {}
  },
  {
   "cell_type": "code",
   "execution_count": 11,
   "source": [
    "train_set = df_prods.sample(frac=0.8, random_state=5)\n",
    "test_set = df_prods.drop(train_set.index)\n",
    "\n",
    "x_train = train_set.copy()\n",
    "x_test = test_set.copy()\n",
    "\n",
    "y_train = x_train.pop('availability')\n",
    "y_test = x_test.pop('availability')"
   ],
   "outputs": [],
   "metadata": {}
  },
  {
   "cell_type": "code",
   "execution_count": 12,
   "source": [
    "x_train = np.array(x_train)\n",
    "x_test = np.array(x_test)\n",
    "\n",
    "y_train = np.array(y_train)\n",
    "y_test = np.array(y_test)\n",
    "\n",
    "y_test_labels = y_test.copy()\n",
    "\n",
    "y_train = np.reshape(y_train, (-1, 1))\n",
    "y_test = np.reshape(y_test, (-1, 1))\n",
    "\n",
    "scaler_x = MinMaxScaler()\n",
    "scaler_y = MinMaxScaler()\n",
    "\n",
    "scaler_x.fit(x_train)\n",
    "x_train = scaler_x.transform(x_train)\n",
    "\n",
    "scaler_x.fit(x_test)\n",
    "x_test = scaler_x.transform(x_test)\n",
    "\n",
    "scaler_y.fit(y_train)\n",
    "y_train = scaler_y.transform(y_train)\n",
    "\n",
    "scaler_y.fit(y_test)\n",
    "y_test = scaler_y.transform(y_test)\n"
   ],
   "outputs": [],
   "metadata": {}
  },
  {
   "cell_type": "code",
   "execution_count": 13,
   "source": [
    "data_length = len(x_train[0])\n",
    "\n",
    "model = keras.Sequential([\n",
    "    layers.Dense(data_length + 1, input_dim=data_length, kernel_initializer='normal', activation='relu'),\n",
    "    layers.Dense(data_length*8, activation='relu'),\n",
    "    layers.Dense(data_length*3, activation='relu'),\n",
    "    layers.Dropout(0.2),\n",
    "    layers.Dense(2, activation='softmax')\n",
    "])"
   ],
   "outputs": [],
   "metadata": {}
  },
  {
   "cell_type": "code",
   "execution_count": 14,
   "source": [
    "model.compile(\n",
    "    optimizer=tf.optimizers.SGD(learning_rate=0.005, momentum=0.9, nesterov=True),\n",
    "    loss='sparse_categorical_crossentropy',\n",
    "    metrics=['accuracy']\n",
    ")\n",
    "\n",
    "model.summary()"
   ],
   "outputs": [
    {
     "output_type": "stream",
     "name": "stdout",
     "text": [
      "Model: \"sequential\"\n",
      "_________________________________________________________________\n",
      "Layer (type)                 Output Shape              Param #   \n",
      "=================================================================\n",
      "dense (Dense)                (None, 158)               24964     \n",
      "_________________________________________________________________\n",
      "dense_1 (Dense)              (None, 1256)              199704    \n",
      "_________________________________________________________________\n",
      "dense_2 (Dense)              (None, 471)               592047    \n",
      "_________________________________________________________________\n",
      "dropout (Dropout)            (None, 471)               0         \n",
      "_________________________________________________________________\n",
      "dense_3 (Dense)              (None, 2)                 944       \n",
      "=================================================================\n",
      "Total params: 817,659\n",
      "Trainable params: 817,659\n",
      "Non-trainable params: 0\n",
      "_________________________________________________________________\n"
     ]
    }
   ],
   "metadata": {}
  },
  {
   "cell_type": "code",
   "execution_count": 15,
   "source": [
    "history = model.fit(\n",
    "    x_train,\n",
    "    y_train,\n",
    "    epochs=500,\n",
    "    verbose=0,\n",
    "    batch_size=150,\n",
    "    shuffle=True,\n",
    "    validation_split=0.2\n",
    ")\n",
    "\n",
    "hist = pd.DataFrame(history.history)\n",
    "hist['epoch'] = history.epoch\n",
    "hist.head()"
   ],
   "outputs": [
    {
     "output_type": "execute_result",
     "data": {
      "text/plain": [
       "       loss  accuracy  val_loss  val_accuracy  epoch\n",
       "0  0.621065  0.705596  0.582554      0.723729      0\n",
       "1  0.580158  0.722764  0.573199      0.723729      1\n",
       "2  0.570001  0.722764  0.564112      0.723729      2\n",
       "3  0.561070  0.722764  0.555002      0.723729      3\n",
       "4  0.551395  0.722764  0.545977      0.723729      4"
      ],
      "text/html": [
       "<div>\n",
       "<style scoped>\n",
       "    .dataframe tbody tr th:only-of-type {\n",
       "        vertical-align: middle;\n",
       "    }\n",
       "\n",
       "    .dataframe tbody tr th {\n",
       "        vertical-align: top;\n",
       "    }\n",
       "\n",
       "    .dataframe thead th {\n",
       "        text-align: right;\n",
       "    }\n",
       "</style>\n",
       "<table border=\"1\" class=\"dataframe\">\n",
       "  <thead>\n",
       "    <tr style=\"text-align: right;\">\n",
       "      <th></th>\n",
       "      <th>loss</th>\n",
       "      <th>accuracy</th>\n",
       "      <th>val_loss</th>\n",
       "      <th>val_accuracy</th>\n",
       "      <th>epoch</th>\n",
       "    </tr>\n",
       "  </thead>\n",
       "  <tbody>\n",
       "    <tr>\n",
       "      <th>0</th>\n",
       "      <td>0.621065</td>\n",
       "      <td>0.705596</td>\n",
       "      <td>0.582554</td>\n",
       "      <td>0.723729</td>\n",
       "      <td>0</td>\n",
       "    </tr>\n",
       "    <tr>\n",
       "      <th>1</th>\n",
       "      <td>0.580158</td>\n",
       "      <td>0.722764</td>\n",
       "      <td>0.573199</td>\n",
       "      <td>0.723729</td>\n",
       "      <td>1</td>\n",
       "    </tr>\n",
       "    <tr>\n",
       "      <th>2</th>\n",
       "      <td>0.570001</td>\n",
       "      <td>0.722764</td>\n",
       "      <td>0.564112</td>\n",
       "      <td>0.723729</td>\n",
       "      <td>2</td>\n",
       "    </tr>\n",
       "    <tr>\n",
       "      <th>3</th>\n",
       "      <td>0.561070</td>\n",
       "      <td>0.722764</td>\n",
       "      <td>0.555002</td>\n",
       "      <td>0.723729</td>\n",
       "      <td>3</td>\n",
       "    </tr>\n",
       "    <tr>\n",
       "      <th>4</th>\n",
       "      <td>0.551395</td>\n",
       "      <td>0.722764</td>\n",
       "      <td>0.545977</td>\n",
       "      <td>0.723729</td>\n",
       "      <td>4</td>\n",
       "    </tr>\n",
       "  </tbody>\n",
       "</table>\n",
       "</div>"
      ]
     },
     "metadata": {},
     "execution_count": 15
    }
   ],
   "metadata": {}
  },
  {
   "cell_type": "code",
   "execution_count": 16,
   "source": [
    "test_predictions = model.predict(x_test)\n",
    "test_predictions = scaler_y.inverse_transform(test_predictions)"
   ],
   "outputs": [],
   "metadata": {}
  },
  {
   "cell_type": "code",
   "execution_count": 17,
   "source": [
    "metrics = model.evaluate(x_test, y_test)\n"
   ],
   "outputs": [
    {
     "output_type": "stream",
     "name": "stdout",
     "text": [
      "47/47 [==============================] - 0s 4ms/step - loss: 0.5427 - accuracy: 0.8847\n"
     ]
    }
   ],
   "metadata": {}
  },
  {
   "cell_type": "code",
   "execution_count": 18,
   "source": [
    "def plot_loss(history):\n",
    "    plt.plot(history.history['loss'], label='loss')\n",
    "    plt.plot(history.history['val_loss'], label='val_loss')\n",
    "    plt.xlabel('Epoch')\n",
    "    plt.ylabel('Error [PRICE]')\n",
    "    plt.legend()\n",
    "    plt.grid(True)"
   ],
   "outputs": [],
   "metadata": {}
  },
  {
   "cell_type": "code",
   "execution_count": 19,
   "source": [
    "plot_loss(history)"
   ],
   "outputs": [
    {
     "output_type": "display_data",
     "data": {
      "text/plain": [
       "<Figure size 432x288 with 1 Axes>"
      ],
      "image/png": "[encoded data removed]"
     },
     "metadata": {
      "needs_background": "light"
     }
    }
   ],
   "metadata": {}
  },
  {
   "cell_type": "code",
   "execution_count": 20,
   "source": [
    "y_test"
   ],
   "outputs": [
    {
     "output_type": "execute_result",
     "data": {
      "text/plain": [
       "array([[0.],\n",
       "       [1.],\n",
       "       [1.],\n",
       "       ...,\n",
       "       [0.],\n",
       "       [0.],\n",
       "       [1.]])"
      ]
     },
     "metadata": {},
     "execution_count": 20
    }
   ],
   "metadata": {}
  },
  {
   "cell_type": "code",
   "execution_count": 30,
   "source": [
    "test_preds = [0 if x[0] >= x[1] else 1 for x in test_predictions]"
   ],
   "outputs": [],
   "metadata": {}
  },
  {
   "cell_type": "code",
   "execution_count": 31,
   "source": [
    "a = plt.axes(aspect='equal')\n",
    "plt.scatter(y_test, test_preds)\n",
    "plt.xlabel('True Values [PRICE]')\n",
    "plt.ylabel('Predictions [PRICE]')\n",
    "plt.plot()"
   ],
   "outputs": [
    {
     "output_type": "execute_result",
     "data": {
      "text/plain": [
       "[]"
      ]
     },
     "metadata": {},
     "execution_count": 31
    },
    {
     "output_type": "display_data",
     "data": {
      "text/plain": [
       "<Figure size 432x288 with 1 Axes>"
      ],
      "image/png": "[encoded data removed]"
     },
     "metadata": {
      "needs_background": "light"
     }
    }
   ],
   "metadata": {}
  },
  {
   "cell_type": "code",
   "execution_count": 32,
   "source": [
    "error = test_preds = y_test\n",
    "plt.hist(error, bins=25)\n",
    "plt.xlabel('Prediction Error [PRICE]')\n",
    "_ = plt.ylabel('Count')"
   ],
   "outputs": [
    {
     "output_type": "display_data",
     "data": {
      "text/plain": [
       "<Figure size 432x288 with 1 Axes>"
      ],
      "image/png": "[encoded data removed]"
     },
     "metadata": {
      "needs_background": "light"
     }
    }
   ],
   "metadata": {}
  },
  {
   "cell_type": "code",
   "execution_count": 33,
   "source": [
    "model.save('../../trained_models/avail_prediction.h5')"
   ],
   "outputs": [],
   "metadata": {}
  }
 ],
 "metadata": {
  "orig_nbformat": 4,
  "language_info": {
   "name": "python",
   "version": "3.8.8",
   "mimetype": "text/x-python",
   "codemirror_mode": {
    "name": "ipython",
    "version": 3
   },
   "pygments_lexer": "ipython3",
   "nbconvert_exporter": "python",
   "file_extension": ".py"
  },
  "kernelspec": {
   "name": "python3",
   "display_name": "Python 3.8.8 64-bit ('base': conda)"
  },
  "interpreter": {
   "hash": "235925901c488dc892d2f89dd3f7c0ff4d9c393ea687e852d9b2cae4ba30a691"
  }
 },
 "nbformat": 4,
 "nbformat_minor": 2
}